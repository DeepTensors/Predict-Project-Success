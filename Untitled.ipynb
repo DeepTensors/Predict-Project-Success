{
 "cells": [
  {
   "cell_type": "code",
   "execution_count": 104,
   "metadata": {
    "collapsed": true
   },
   "outputs": [],
   "source": [
    "import numpy as np\n",
    "import pandas as pd\n",
    "import seaborn as sns # data visualization library \n",
    "import matplotlib.pyplot as plt"
   ]
  },
  {
   "cell_type": "code",
   "execution_count": 163,
   "metadata": {
    "collapsed": true
   },
   "outputs": [],
   "source": [
    "data = pd.read_csv('train.csv')"
   ]
  },
  {
   "cell_type": "code",
   "execution_count": 164,
   "metadata": {},
   "outputs": [
    {
     "data": {
      "text/html": [
       "<div>\n",
       "<style>\n",
       "    .dataframe thead tr:only-child th {\n",
       "        text-align: right;\n",
       "    }\n",
       "\n",
       "    .dataframe thead th {\n",
       "        text-align: left;\n",
       "    }\n",
       "\n",
       "    .dataframe tbody tr th {\n",
       "        vertical-align: top;\n",
       "    }\n",
       "</style>\n",
       "<table border=\"1\" class=\"dataframe\">\n",
       "  <thead>\n",
       "    <tr style=\"text-align: right;\">\n",
       "      <th></th>\n",
       "      <th>project_id</th>\n",
       "      <th>name</th>\n",
       "      <th>desc</th>\n",
       "      <th>goal</th>\n",
       "      <th>keywords</th>\n",
       "      <th>disable_communication</th>\n",
       "      <th>country</th>\n",
       "      <th>currency</th>\n",
       "      <th>deadline</th>\n",
       "      <th>state_changed_at</th>\n",
       "      <th>created_at</th>\n",
       "      <th>launched_at</th>\n",
       "      <th>backers_count</th>\n",
       "      <th>final_status</th>\n",
       "    </tr>\n",
       "  </thead>\n",
       "  <tbody>\n",
       "    <tr>\n",
       "      <th>0</th>\n",
       "      <td>kkst1451568084</td>\n",
       "      <td>drawing for dollars</td>\n",
       "      <td>I like drawing pictures. and then i color them...</td>\n",
       "      <td>20.0</td>\n",
       "      <td>drawing-for-dollars</td>\n",
       "      <td>False</td>\n",
       "      <td>US</td>\n",
       "      <td>USD</td>\n",
       "      <td>1241333999</td>\n",
       "      <td>1241334017</td>\n",
       "      <td>1240600507</td>\n",
       "      <td>1240602723</td>\n",
       "      <td>3</td>\n",
       "      <td>1</td>\n",
       "    </tr>\n",
       "    <tr>\n",
       "      <th>1</th>\n",
       "      <td>kkst1474482071</td>\n",
       "      <td>Sponsor Dereck Blackburn (Lostwars) Artist in ...</td>\n",
       "      <td>I, Dereck Blackburn will be taking upon an inc...</td>\n",
       "      <td>300.0</td>\n",
       "      <td>sponsor-dereck-blackburn-lostwars-artist-in-re...</td>\n",
       "      <td>False</td>\n",
       "      <td>US</td>\n",
       "      <td>USD</td>\n",
       "      <td>1242429000</td>\n",
       "      <td>1242432018</td>\n",
       "      <td>1240960224</td>\n",
       "      <td>1240975592</td>\n",
       "      <td>2</td>\n",
       "      <td>0</td>\n",
       "    </tr>\n",
       "    <tr>\n",
       "      <th>2</th>\n",
       "      <td>kkst183622197</td>\n",
       "      <td>Mr. Squiggles</td>\n",
       "      <td>So I saw darkpony's successfully funded drawin...</td>\n",
       "      <td>30.0</td>\n",
       "      <td>mr-squiggles</td>\n",
       "      <td>False</td>\n",
       "      <td>US</td>\n",
       "      <td>USD</td>\n",
       "      <td>1243027560</td>\n",
       "      <td>1243027818</td>\n",
       "      <td>1242163613</td>\n",
       "      <td>1242164398</td>\n",
       "      <td>0</td>\n",
       "      <td>0</td>\n",
       "    </tr>\n",
       "    <tr>\n",
       "      <th>3</th>\n",
       "      <td>kkst597742710</td>\n",
       "      <td>Help me write my second novel.</td>\n",
       "      <td>Do your part to help out starving artists and ...</td>\n",
       "      <td>500.0</td>\n",
       "      <td>help-me-write-my-second-novel</td>\n",
       "      <td>False</td>\n",
       "      <td>US</td>\n",
       "      <td>USD</td>\n",
       "      <td>1243555740</td>\n",
       "      <td>1243556121</td>\n",
       "      <td>1240963795</td>\n",
       "      <td>1240966730</td>\n",
       "      <td>18</td>\n",
       "      <td>1</td>\n",
       "    </tr>\n",
       "    <tr>\n",
       "      <th>4</th>\n",
       "      <td>kkst1913131122</td>\n",
       "      <td>Support casting my sculpture in bronze</td>\n",
       "      <td>I'm nearing completion on a sculpture, current...</td>\n",
       "      <td>2000.0</td>\n",
       "      <td>support-casting-my-sculpture-in-bronze</td>\n",
       "      <td>False</td>\n",
       "      <td>US</td>\n",
       "      <td>USD</td>\n",
       "      <td>1243769880</td>\n",
       "      <td>1243770317</td>\n",
       "      <td>1241177914</td>\n",
       "      <td>1241180541</td>\n",
       "      <td>1</td>\n",
       "      <td>0</td>\n",
       "    </tr>\n",
       "  </tbody>\n",
       "</table>\n",
       "</div>"
      ],
      "text/plain": [
       "       project_id                                               name  \\\n",
       "0  kkst1451568084                                drawing for dollars   \n",
       "1  kkst1474482071  Sponsor Dereck Blackburn (Lostwars) Artist in ...   \n",
       "2   kkst183622197                                      Mr. Squiggles   \n",
       "3   kkst597742710                     Help me write my second novel.   \n",
       "4  kkst1913131122             Support casting my sculpture in bronze   \n",
       "\n",
       "                                                desc    goal  \\\n",
       "0  I like drawing pictures. and then i color them...    20.0   \n",
       "1  I, Dereck Blackburn will be taking upon an inc...   300.0   \n",
       "2  So I saw darkpony's successfully funded drawin...    30.0   \n",
       "3  Do your part to help out starving artists and ...   500.0   \n",
       "4  I'm nearing completion on a sculpture, current...  2000.0   \n",
       "\n",
       "                                            keywords  disable_communication  \\\n",
       "0                                drawing-for-dollars                  False   \n",
       "1  sponsor-dereck-blackburn-lostwars-artist-in-re...                  False   \n",
       "2                                       mr-squiggles                  False   \n",
       "3                      help-me-write-my-second-novel                  False   \n",
       "4             support-casting-my-sculpture-in-bronze                  False   \n",
       "\n",
       "  country currency    deadline  state_changed_at  created_at  launched_at  \\\n",
       "0      US      USD  1241333999        1241334017  1240600507   1240602723   \n",
       "1      US      USD  1242429000        1242432018  1240960224   1240975592   \n",
       "2      US      USD  1243027560        1243027818  1242163613   1242164398   \n",
       "3      US      USD  1243555740        1243556121  1240963795   1240966730   \n",
       "4      US      USD  1243769880        1243770317  1241177914   1241180541   \n",
       "\n",
       "   backers_count  final_status  \n",
       "0              3             1  \n",
       "1              2             0  \n",
       "2              0             0  \n",
       "3             18             1  \n",
       "4              1             0  "
      ]
     },
     "execution_count": 164,
     "metadata": {},
     "output_type": "execute_result"
    }
   ],
   "source": [
    "data.head()"
   ]
  },
  {
   "cell_type": "code",
   "execution_count": 123,
   "metadata": {},
   "outputs": [],
   "source": [
    "import datetime\n",
    "data['created_at_year'] = data['created_at'].apply(lambda x: datetime.datetime.fromtimestamp(int(x)).strftime('%Y'))\n",
    "data['created_at_month'] = data['created_at'].apply(lambda x: datetime.datetime.fromtimestamp(int(x)).strftime('%m'))\n",
    "data['created_at_date'] = data['created_at'].apply(lambda x: datetime.datetime.fromtimestamp(int(x)).strftime('%d'))"
   ]
  },
  {
   "cell_type": "code",
   "execution_count": 100,
   "metadata": {},
   "outputs": [],
   "source": [
    "data['state_changed_at_year'] = data['state_changed_at'].apply(lambda x: datetime.datetime.fromtimestamp(int(x)).strftime('%Y'))"
   ]
  },
  {
   "cell_type": "code",
   "execution_count": 101,
   "metadata": {
    "collapsed": true
   },
   "outputs": [],
   "source": [
    "data['state_changed_at_date'] = data['state_changed_at'].apply(lambda x: datetime.datetime.fromtimestamp(int(x)).strftime('%d'))\n",
    "data['state_changed_at_month'] = data['state_changed_at'].apply(lambda x: datetime.datetime.fromtimestamp(int(x)).strftime('%m'))"
   ]
  },
  {
   "cell_type": "code",
   "execution_count": 102,
   "metadata": {
    "collapsed": true
   },
   "outputs": [],
   "source": [
    "data['deadline_year'] = data['deadline'].apply(lambda x: datetime.datetime.fromtimestamp(int(x)).strftime('%Y'))\n",
    "data['deadline_month'] = data['deadline'].apply(lambda x: datetime.datetime.fromtimestamp(int(x)).strftime('%m'))\n",
    "data['deadline_date'] = data['deadline'].apply(lambda x: datetime.datetime.fromtimestamp(int(x)).strftime('%d'))"
   ]
  },
  {
   "cell_type": "code",
   "execution_count": 126,
   "metadata": {},
   "outputs": [
    {
     "data": {
      "text/html": [
       "<div>\n",
       "<style>\n",
       "    .dataframe thead tr:only-child th {\n",
       "        text-align: right;\n",
       "    }\n",
       "\n",
       "    .dataframe thead th {\n",
       "        text-align: left;\n",
       "    }\n",
       "\n",
       "    .dataframe tbody tr th {\n",
       "        vertical-align: top;\n",
       "    }\n",
       "</style>\n",
       "<table border=\"1\" class=\"dataframe\">\n",
       "  <thead>\n",
       "    <tr style=\"text-align: right;\">\n",
       "      <th></th>\n",
       "      <th>project_id</th>\n",
       "      <th>name</th>\n",
       "      <th>desc</th>\n",
       "      <th>goal</th>\n",
       "      <th>keywords</th>\n",
       "      <th>disable_communication</th>\n",
       "      <th>country</th>\n",
       "      <th>currency</th>\n",
       "      <th>deadline</th>\n",
       "      <th>state_changed_at</th>\n",
       "      <th>created_at</th>\n",
       "      <th>launched_at</th>\n",
       "      <th>backers_count</th>\n",
       "      <th>final_status</th>\n",
       "    </tr>\n",
       "  </thead>\n",
       "  <tbody>\n",
       "    <tr>\n",
       "      <th>0</th>\n",
       "      <td>kkst1451568084</td>\n",
       "      <td>drawing for dollars</td>\n",
       "      <td>I like drawing pictures. and then i color them...</td>\n",
       "      <td>20.0</td>\n",
       "      <td>drawing-for-dollars</td>\n",
       "      <td>False</td>\n",
       "      <td>US</td>\n",
       "      <td>USD</td>\n",
       "      <td>1241333999</td>\n",
       "      <td>1241334017</td>\n",
       "      <td>1240600507</td>\n",
       "      <td>1240602723</td>\n",
       "      <td>3</td>\n",
       "      <td>1</td>\n",
       "    </tr>\n",
       "    <tr>\n",
       "      <th>1</th>\n",
       "      <td>kkst1474482071</td>\n",
       "      <td>Sponsor Dereck Blackburn (Lostwars) Artist in ...</td>\n",
       "      <td>I, Dereck Blackburn will be taking upon an inc...</td>\n",
       "      <td>300.0</td>\n",
       "      <td>sponsor-dereck-blackburn-lostwars-artist-in-re...</td>\n",
       "      <td>False</td>\n",
       "      <td>US</td>\n",
       "      <td>USD</td>\n",
       "      <td>1242429000</td>\n",
       "      <td>1242432018</td>\n",
       "      <td>1240960224</td>\n",
       "      <td>1240975592</td>\n",
       "      <td>2</td>\n",
       "      <td>0</td>\n",
       "    </tr>\n",
       "    <tr>\n",
       "      <th>2</th>\n",
       "      <td>kkst183622197</td>\n",
       "      <td>Mr. Squiggles</td>\n",
       "      <td>So I saw darkpony's successfully funded drawin...</td>\n",
       "      <td>30.0</td>\n",
       "      <td>mr-squiggles</td>\n",
       "      <td>False</td>\n",
       "      <td>US</td>\n",
       "      <td>USD</td>\n",
       "      <td>1243027560</td>\n",
       "      <td>1243027818</td>\n",
       "      <td>1242163613</td>\n",
       "      <td>1242164398</td>\n",
       "      <td>0</td>\n",
       "      <td>0</td>\n",
       "    </tr>\n",
       "    <tr>\n",
       "      <th>3</th>\n",
       "      <td>kkst597742710</td>\n",
       "      <td>Help me write my second novel.</td>\n",
       "      <td>Do your part to help out starving artists and ...</td>\n",
       "      <td>500.0</td>\n",
       "      <td>help-me-write-my-second-novel</td>\n",
       "      <td>False</td>\n",
       "      <td>US</td>\n",
       "      <td>USD</td>\n",
       "      <td>1243555740</td>\n",
       "      <td>1243556121</td>\n",
       "      <td>1240963795</td>\n",
       "      <td>1240966730</td>\n",
       "      <td>18</td>\n",
       "      <td>1</td>\n",
       "    </tr>\n",
       "    <tr>\n",
       "      <th>4</th>\n",
       "      <td>kkst1913131122</td>\n",
       "      <td>Support casting my sculpture in bronze</td>\n",
       "      <td>I'm nearing completion on a sculpture, current...</td>\n",
       "      <td>2000.0</td>\n",
       "      <td>support-casting-my-sculpture-in-bronze</td>\n",
       "      <td>False</td>\n",
       "      <td>US</td>\n",
       "      <td>USD</td>\n",
       "      <td>1243769880</td>\n",
       "      <td>1243770317</td>\n",
       "      <td>1241177914</td>\n",
       "      <td>1241180541</td>\n",
       "      <td>1</td>\n",
       "      <td>0</td>\n",
       "    </tr>\n",
       "  </tbody>\n",
       "</table>\n",
       "</div>"
      ],
      "text/plain": [
       "       project_id                                               name  \\\n",
       "0  kkst1451568084                                drawing for dollars   \n",
       "1  kkst1474482071  Sponsor Dereck Blackburn (Lostwars) Artist in ...   \n",
       "2   kkst183622197                                      Mr. Squiggles   \n",
       "3   kkst597742710                     Help me write my second novel.   \n",
       "4  kkst1913131122             Support casting my sculpture in bronze   \n",
       "\n",
       "                                                desc    goal  \\\n",
       "0  I like drawing pictures. and then i color them...    20.0   \n",
       "1  I, Dereck Blackburn will be taking upon an inc...   300.0   \n",
       "2  So I saw darkpony's successfully funded drawin...    30.0   \n",
       "3  Do your part to help out starving artists and ...   500.0   \n",
       "4  I'm nearing completion on a sculpture, current...  2000.0   \n",
       "\n",
       "                                            keywords  disable_communication  \\\n",
       "0                                drawing-for-dollars                  False   \n",
       "1  sponsor-dereck-blackburn-lostwars-artist-in-re...                  False   \n",
       "2                                       mr-squiggles                  False   \n",
       "3                      help-me-write-my-second-novel                  False   \n",
       "4             support-casting-my-sculpture-in-bronze                  False   \n",
       "\n",
       "  country currency    deadline  state_changed_at  created_at  launched_at  \\\n",
       "0      US      USD  1241333999        1241334017  1240600507   1240602723   \n",
       "1      US      USD  1242429000        1242432018  1240960224   1240975592   \n",
       "2      US      USD  1243027560        1243027818  1242163613   1242164398   \n",
       "3      US      USD  1243555740        1243556121  1240963795   1240966730   \n",
       "4      US      USD  1243769880        1243770317  1241177914   1241180541   \n",
       "\n",
       "   backers_count  final_status  \n",
       "0              3             1  \n",
       "1              2             0  \n",
       "2              0             0  \n",
       "3             18             1  \n",
       "4              1             0  "
      ]
     },
     "execution_count": 126,
     "metadata": {},
     "output_type": "execute_result"
    }
   ],
   "source": [
    "data.head()"
   ]
  },
  {
   "cell_type": "code",
   "execution_count": 76,
   "metadata": {},
   "outputs": [
    {
     "data": {
      "text/html": [
       "<div>\n",
       "<style>\n",
       "    .dataframe thead tr:only-child th {\n",
       "        text-align: right;\n",
       "    }\n",
       "\n",
       "    .dataframe thead th {\n",
       "        text-align: left;\n",
       "    }\n",
       "\n",
       "    .dataframe tbody tr th {\n",
       "        vertical-align: top;\n",
       "    }\n",
       "</style>\n",
       "<table border=\"1\" class=\"dataframe\">\n",
       "  <thead>\n",
       "    <tr style=\"text-align: right;\">\n",
       "      <th></th>\n",
       "      <th>goal</th>\n",
       "      <th>deadline</th>\n",
       "      <th>state_changed_at</th>\n",
       "      <th>created_at</th>\n",
       "      <th>launched_at</th>\n",
       "      <th>backers_count</th>\n",
       "      <th>final_status</th>\n",
       "    </tr>\n",
       "  </thead>\n",
       "  <tbody>\n",
       "    <tr>\n",
       "      <th>count</th>\n",
       "      <td>1.081290e+05</td>\n",
       "      <td>1.081290e+05</td>\n",
       "      <td>1.081290e+05</td>\n",
       "      <td>1.081290e+05</td>\n",
       "      <td>1.081290e+05</td>\n",
       "      <td>108129.000000</td>\n",
       "      <td>108129.000000</td>\n",
       "    </tr>\n",
       "    <tr>\n",
       "      <th>mean</th>\n",
       "      <td>3.672623e+04</td>\n",
       "      <td>1.380248e+09</td>\n",
       "      <td>1.380153e+09</td>\n",
       "      <td>1.374037e+09</td>\n",
       "      <td>1.377299e+09</td>\n",
       "      <td>123.516661</td>\n",
       "      <td>0.319627</td>\n",
       "    </tr>\n",
       "    <tr>\n",
       "      <th>std</th>\n",
       "      <td>9.719027e+05</td>\n",
       "      <td>4.270222e+07</td>\n",
       "      <td>4.266402e+07</td>\n",
       "      <td>4.272310e+07</td>\n",
       "      <td>4.294421e+07</td>\n",
       "      <td>1176.745162</td>\n",
       "      <td>0.466334</td>\n",
       "    </tr>\n",
       "    <tr>\n",
       "      <th>min</th>\n",
       "      <td>1.000000e-02</td>\n",
       "      <td>1.241334e+09</td>\n",
       "      <td>1.241334e+09</td>\n",
       "      <td>1.240335e+09</td>\n",
       "      <td>1.240603e+09</td>\n",
       "      <td>0.000000</td>\n",
       "      <td>0.000000</td>\n",
       "    </tr>\n",
       "    <tr>\n",
       "      <th>25%</th>\n",
       "      <td>2.000000e+03</td>\n",
       "      <td>1.346732e+09</td>\n",
       "      <td>1.346695e+09</td>\n",
       "      <td>1.340058e+09</td>\n",
       "      <td>1.343917e+09</td>\n",
       "      <td>2.000000</td>\n",
       "      <td>0.000000</td>\n",
       "    </tr>\n",
       "    <tr>\n",
       "      <th>50%</th>\n",
       "      <td>5.000000e+03</td>\n",
       "      <td>1.393628e+09</td>\n",
       "      <td>1.393567e+09</td>\n",
       "      <td>1.384445e+09</td>\n",
       "      <td>1.390870e+09</td>\n",
       "      <td>17.000000</td>\n",
       "      <td>0.000000</td>\n",
       "    </tr>\n",
       "    <tr>\n",
       "      <th>75%</th>\n",
       "      <td>1.300000e+04</td>\n",
       "      <td>1.415719e+09</td>\n",
       "      <td>1.415548e+09</td>\n",
       "      <td>1.409623e+09</td>\n",
       "      <td>1.412807e+09</td>\n",
       "      <td>65.000000</td>\n",
       "      <td>1.000000</td>\n",
       "    </tr>\n",
       "    <tr>\n",
       "      <th>max</th>\n",
       "      <td>1.000000e+08</td>\n",
       "      <td>1.433097e+09</td>\n",
       "      <td>1.433097e+09</td>\n",
       "      <td>1.432325e+09</td>\n",
       "      <td>1.432658e+09</td>\n",
       "      <td>219382.000000</td>\n",
       "      <td>1.000000</td>\n",
       "    </tr>\n",
       "  </tbody>\n",
       "</table>\n",
       "</div>"
      ],
      "text/plain": [
       "               goal      deadline  state_changed_at    created_at  \\\n",
       "count  1.081290e+05  1.081290e+05      1.081290e+05  1.081290e+05   \n",
       "mean   3.672623e+04  1.380248e+09      1.380153e+09  1.374037e+09   \n",
       "std    9.719027e+05  4.270222e+07      4.266402e+07  4.272310e+07   \n",
       "min    1.000000e-02  1.241334e+09      1.241334e+09  1.240335e+09   \n",
       "25%    2.000000e+03  1.346732e+09      1.346695e+09  1.340058e+09   \n",
       "50%    5.000000e+03  1.393628e+09      1.393567e+09  1.384445e+09   \n",
       "75%    1.300000e+04  1.415719e+09      1.415548e+09  1.409623e+09   \n",
       "max    1.000000e+08  1.433097e+09      1.433097e+09  1.432325e+09   \n",
       "\n",
       "        launched_at  backers_count   final_status  \n",
       "count  1.081290e+05  108129.000000  108129.000000  \n",
       "mean   1.377299e+09     123.516661       0.319627  \n",
       "std    4.294421e+07    1176.745162       0.466334  \n",
       "min    1.240603e+09       0.000000       0.000000  \n",
       "25%    1.343917e+09       2.000000       0.000000  \n",
       "50%    1.390870e+09      17.000000       0.000000  \n",
       "75%    1.412807e+09      65.000000       1.000000  \n",
       "max    1.432658e+09  219382.000000       1.000000  "
      ]
     },
     "execution_count": 76,
     "metadata": {},
     "output_type": "execute_result"
    }
   ],
   "source": [
    "data.describe()"
   ]
  },
  {
   "cell_type": "markdown",
   "metadata": {},
   "source": [
    "``` project_id\tunique id of project\n",
    "name\tname of the project\n",
    "desc\tdescription of project\n",
    "goal\tthe goal (amount) required for the project\n",
    "keywords\tkeywords which describe project\n",
    "disable communication\twhether the project authors has disabled communication option with people donating to the project\n",
    "country\tcountry of project author\n",
    "currency\tcurrency in which goal (amount) is required\n",
    "deadline\ttill this date the goal must be achieved (in unix timeformat)\n",
    "state_changed_at\tat this time the project status changed. Status could be successful, failed, suspended, cancelled etc. (in unix timeformat)\n",
    "created_at\tat this time the project was posted on the website(in unix timeformat)\n",
    "launched_at\tat this time the project went live on the website(in unix timeformat)\n",
    "backers_count\tno. of people who backed the project\n",
    "final_status\twhether the project got successfully funded (target variable – 1,0)\n",
    "```"
   ]
  },
  {
   "cell_type": "code",
   "execution_count": 4,
   "metadata": {
    "collapsed": true
   },
   "outputs": [],
   "source": [
    "curr = data.currency"
   ]
  },
  {
   "cell_type": "code",
   "execution_count": 5,
   "metadata": {},
   "outputs": [
    {
     "name": "stdout",
     "output_type": "stream",
     "text": [
      "Index(['project_id', 'name', 'desc', 'goal', 'keywords',\n",
      "       'disable_communication', 'country', 'currency', 'deadline',\n",
      "       'state_changed_at', 'created_at', 'launched_at', 'backers_count',\n",
      "       'final_status'],\n",
      "      dtype='object')\n"
     ]
    }
   ],
   "source": [
    "# feature names as a list\n",
    "col = data.columns       # .columns gives columns names in data \n",
    "print(col)"
   ]
  },
  {
   "cell_type": "code",
   "execution_count": 6,
   "metadata": {},
   "outputs": [
    {
     "data": {
      "image/png": "[encoded data removed]",
      "text/plain": [
       "<matplotlib.figure.Figure at 0x7f932c469ef0>"
      ]
     },
     "metadata": {},
     "output_type": "display_data"
    }
   ],
   "source": [
    "ax = sns.countplot(curr,label=\"Count\")       # M = 212, B = 357\n",
    "plt.show()"
   ]
  },
  {
   "cell_type": "code",
   "execution_count": 7,
   "metadata": {},
   "outputs": [
    {
     "data": {
      "text/html": [
       "<div>\n",
       "<style>\n",
       "    .dataframe thead tr:only-child th {\n",
       "        text-align: right;\n",
       "    }\n",
       "\n",
       "    .dataframe thead th {\n",
       "        text-align: left;\n",
       "    }\n",
       "\n",
       "    .dataframe tbody tr th {\n",
       "        vertical-align: top;\n",
       "    }\n",
       "</style>\n",
       "<table border=\"1\" class=\"dataframe\">\n",
       "  <thead>\n",
       "    <tr style=\"text-align: right;\">\n",
       "      <th></th>\n",
       "      <th>goal</th>\n",
       "      <th>deadline</th>\n",
       "      <th>state_changed_at</th>\n",
       "      <th>created_at</th>\n",
       "      <th>launched_at</th>\n",
       "      <th>backers_count</th>\n",
       "      <th>final_status</th>\n",
       "    </tr>\n",
       "  </thead>\n",
       "  <tbody>\n",
       "    <tr>\n",
       "      <th>count</th>\n",
       "      <td>1.081290e+05</td>\n",
       "      <td>1.081290e+05</td>\n",
       "      <td>1.081290e+05</td>\n",
       "      <td>1.081290e+05</td>\n",
       "      <td>1.081290e+05</td>\n",
       "      <td>108129.000000</td>\n",
       "      <td>108129.000000</td>\n",
       "    </tr>\n",
       "    <tr>\n",
       "      <th>mean</th>\n",
       "      <td>3.672623e+04</td>\n",
       "      <td>1.380248e+09</td>\n",
       "      <td>1.380153e+09</td>\n",
       "      <td>1.374037e+09</td>\n",
       "      <td>1.377299e+09</td>\n",
       "      <td>123.516661</td>\n",
       "      <td>0.319627</td>\n",
       "    </tr>\n",
       "    <tr>\n",
       "      <th>std</th>\n",
       "      <td>9.719027e+05</td>\n",
       "      <td>4.270222e+07</td>\n",
       "      <td>4.266402e+07</td>\n",
       "      <td>4.272310e+07</td>\n",
       "      <td>4.294421e+07</td>\n",
       "      <td>1176.745162</td>\n",
       "      <td>0.466334</td>\n",
       "    </tr>\n",
       "    <tr>\n",
       "      <th>min</th>\n",
       "      <td>1.000000e-02</td>\n",
       "      <td>1.241334e+09</td>\n",
       "      <td>1.241334e+09</td>\n",
       "      <td>1.240335e+09</td>\n",
       "      <td>1.240603e+09</td>\n",
       "      <td>0.000000</td>\n",
       "      <td>0.000000</td>\n",
       "    </tr>\n",
       "    <tr>\n",
       "      <th>25%</th>\n",
       "      <td>2.000000e+03</td>\n",
       "      <td>1.346732e+09</td>\n",
       "      <td>1.346695e+09</td>\n",
       "      <td>1.340058e+09</td>\n",
       "      <td>1.343917e+09</td>\n",
       "      <td>2.000000</td>\n",
       "      <td>0.000000</td>\n",
       "    </tr>\n",
       "    <tr>\n",
       "      <th>50%</th>\n",
       "      <td>5.000000e+03</td>\n",
       "      <td>1.393628e+09</td>\n",
       "      <td>1.393567e+09</td>\n",
       "      <td>1.384445e+09</td>\n",
       "      <td>1.390870e+09</td>\n",
       "      <td>17.000000</td>\n",
       "      <td>0.000000</td>\n",
       "    </tr>\n",
       "    <tr>\n",
       "      <th>75%</th>\n",
       "      <td>1.300000e+04</td>\n",
       "      <td>1.415719e+09</td>\n",
       "      <td>1.415548e+09</td>\n",
       "      <td>1.409623e+09</td>\n",
       "      <td>1.412807e+09</td>\n",
       "      <td>65.000000</td>\n",
       "      <td>1.000000</td>\n",
       "    </tr>\n",
       "    <tr>\n",
       "      <th>max</th>\n",
       "      <td>1.000000e+08</td>\n",
       "      <td>1.433097e+09</td>\n",
       "      <td>1.433097e+09</td>\n",
       "      <td>1.432325e+09</td>\n",
       "      <td>1.432658e+09</td>\n",
       "      <td>219382.000000</td>\n",
       "      <td>1.000000</td>\n",
       "    </tr>\n",
       "  </tbody>\n",
       "</table>\n",
       "</div>"
      ],
      "text/plain": [
       "               goal      deadline  state_changed_at    created_at  \\\n",
       "count  1.081290e+05  1.081290e+05      1.081290e+05  1.081290e+05   \n",
       "mean   3.672623e+04  1.380248e+09      1.380153e+09  1.374037e+09   \n",
       "std    9.719027e+05  4.270222e+07      4.266402e+07  4.272310e+07   \n",
       "min    1.000000e-02  1.241334e+09      1.241334e+09  1.240335e+09   \n",
       "25%    2.000000e+03  1.346732e+09      1.346695e+09  1.340058e+09   \n",
       "50%    5.000000e+03  1.393628e+09      1.393567e+09  1.384445e+09   \n",
       "75%    1.300000e+04  1.415719e+09      1.415548e+09  1.409623e+09   \n",
       "max    1.000000e+08  1.433097e+09      1.433097e+09  1.432325e+09   \n",
       "\n",
       "        launched_at  backers_count   final_status  \n",
       "count  1.081290e+05  108129.000000  108129.000000  \n",
       "mean   1.377299e+09     123.516661       0.319627  \n",
       "std    4.294421e+07    1176.745162       0.466334  \n",
       "min    1.240603e+09       0.000000       0.000000  \n",
       "25%    1.343917e+09       2.000000       0.000000  \n",
       "50%    1.390870e+09      17.000000       0.000000  \n",
       "75%    1.412807e+09      65.000000       1.000000  \n",
       "max    1.432658e+09  219382.000000       1.000000  "
      ]
     },
     "execution_count": 7,
     "metadata": {},
     "output_type": "execute_result"
    }
   ],
   "source": [
    "data.describe()"
   ]
  },
  {
   "cell_type": "code",
   "execution_count": 8,
   "metadata": {},
   "outputs": [
    {
     "name": "stdout",
     "output_type": "stream",
     "text": [
      "100933\n"
     ]
    }
   ],
   "source": [
    "species = data.deadline\n",
    "species = species.dropna() #drop nan values in species feature\n",
    "speciesOfAnimal = species.unique()\n",
    "print(len(speciesOfAnimal))"
   ]
  },
  {
   "cell_type": "markdown",
   "metadata": {},
   "source": [
    "### This implies some dates of deadlines are same in this dataset"
   ]
  },
  {
   "cell_type": "code",
   "execution_count": 9,
   "metadata": {
    "scrolled": true
   },
   "outputs": [
    {
     "data": {
      "text/plain": [
       "(108129, 14)"
      ]
     },
     "execution_count": 9,
     "metadata": {},
     "output_type": "execute_result"
    }
   ],
   "source": [
    "data.shape"
   ]
  },
  {
   "cell_type": "code",
   "execution_count": 10,
   "metadata": {},
   "outputs": [
    {
     "data": {
      "text/plain": [
       "Index(['project_id', 'name', 'desc', 'goal', 'keywords',\n",
       "       'disable_communication', 'country', 'currency', 'deadline',\n",
       "       'state_changed_at', 'created_at', 'launched_at', 'backers_count',\n",
       "       'final_status'],\n",
       "      dtype='object')"
      ]
     },
     "execution_count": 10,
     "metadata": {},
     "output_type": "execute_result"
    }
   ],
   "source": [
    "data.columns"
   ]
  },
  {
   "cell_type": "markdown",
   "metadata": {
    "collapsed": true
   },
   "source": [
    "## Dropping faltu ke columns\n",
    "1. project_id\n",
    "2. name\n",
    "3. desc\n",
    "4. keywords\n",
    "5. deadline\n",
    "6. state_changed_at\n",
    "7. created_at\n",
    "8. launched_at"
   ]
  },
  {
   "cell_type": "code",
   "execution_count": 165,
   "metadata": {},
   "outputs": [
    {
     "data": {
      "text/html": [
       "<div>\n",
       "<style>\n",
       "    .dataframe thead tr:only-child th {\n",
       "        text-align: right;\n",
       "    }\n",
       "\n",
       "    .dataframe thead th {\n",
       "        text-align: left;\n",
       "    }\n",
       "\n",
       "    .dataframe tbody tr th {\n",
       "        vertical-align: top;\n",
       "    }\n",
       "</style>\n",
       "<table border=\"1\" class=\"dataframe\">\n",
       "  <thead>\n",
       "    <tr style=\"text-align: right;\">\n",
       "      <th></th>\n",
       "      <th>goal</th>\n",
       "      <th>disable_communication</th>\n",
       "      <th>country</th>\n",
       "      <th>currency</th>\n",
       "      <th>final_status</th>\n",
       "    </tr>\n",
       "  </thead>\n",
       "  <tbody>\n",
       "    <tr>\n",
       "      <th>0</th>\n",
       "      <td>20.0</td>\n",
       "      <td>False</td>\n",
       "      <td>US</td>\n",
       "      <td>USD</td>\n",
       "      <td>1</td>\n",
       "    </tr>\n",
       "    <tr>\n",
       "      <th>1</th>\n",
       "      <td>300.0</td>\n",
       "      <td>False</td>\n",
       "      <td>US</td>\n",
       "      <td>USD</td>\n",
       "      <td>0</td>\n",
       "    </tr>\n",
       "    <tr>\n",
       "      <th>2</th>\n",
       "      <td>30.0</td>\n",
       "      <td>False</td>\n",
       "      <td>US</td>\n",
       "      <td>USD</td>\n",
       "      <td>0</td>\n",
       "    </tr>\n",
       "    <tr>\n",
       "      <th>3</th>\n",
       "      <td>500.0</td>\n",
       "      <td>False</td>\n",
       "      <td>US</td>\n",
       "      <td>USD</td>\n",
       "      <td>1</td>\n",
       "    </tr>\n",
       "    <tr>\n",
       "      <th>4</th>\n",
       "      <td>2000.0</td>\n",
       "      <td>False</td>\n",
       "      <td>US</td>\n",
       "      <td>USD</td>\n",
       "      <td>0</td>\n",
       "    </tr>\n",
       "  </tbody>\n",
       "</table>\n",
       "</div>"
      ],
      "text/plain": [
       "     goal  disable_communication country currency  final_status\n",
       "0    20.0                  False      US      USD             1\n",
       "1   300.0                  False      US      USD             0\n",
       "2    30.0                  False      US      USD             0\n",
       "3   500.0                  False      US      USD             1\n",
       "4  2000.0                  False      US      USD             0"
      ]
     },
     "execution_count": 165,
     "metadata": {},
     "output_type": "execute_result"
    }
   ],
   "source": [
    "list = ['project_id' , 'backers_count' , 'name' ,'desc' , 'keywords' , 'deadline' , 'state_changed_at' , 'created_at' , 'launched_at']\n",
    "x = data.drop(list,axis = 1 )\n",
    "x.head()"
   ]
  },
  {
   "cell_type": "code",
   "execution_count": 13,
   "metadata": {},
   "outputs": [
    {
     "data": {
      "image/png": "[encoded data removed]",
      "text/plain": [
       "<matplotlib.figure.Figure at 0x7f92fde3edd8>"
      ]
     },
     "metadata": {},
     "output_type": "display_data"
    }
   ],
   "source": [
    "ax = sns.countplot(x.country,label=\"Count\")       # M = 212, B = 357\n",
    "plt.show()"
   ]
  },
  {
   "cell_type": "code",
   "execution_count": 14,
   "metadata": {},
   "outputs": [
    {
     "data": {
      "image/png": "[encoded data removed]",
      "text/plain": [
       "<matplotlib.figure.Figure at 0x7f92fd884d68>"
      ]
     },
     "metadata": {},
     "output_type": "display_data"
    }
   ],
   "source": [
    "ax = sns.countplot(x.disable_communication,label=\"Count\")       # M = 212, B = 357\n",
    "plt.show()"
   ]
  },
  {
   "cell_type": "markdown",
   "metadata": {},
   "source": [
    "## First Trial - Lets Apply XG boost"
   ]
  },
  {
   "cell_type": "code",
   "execution_count": 151,
   "metadata": {
    "collapsed": true
   },
   "outputs": [],
   "source": [
    "from sklearn.preprocessing import LabelEncoder, OneHotEncoder"
   ]
  },
  {
   "cell_type": "code",
   "execution_count": 166,
   "metadata": {},
   "outputs": [
    {
     "data": {
      "text/plain": [
       "array([1, 0, 0, ..., 1, 0, 0])"
      ]
     },
     "execution_count": 166,
     "metadata": {},
     "output_type": "execute_result"
    }
   ],
   "source": [
    "#X = x.iloc[:,[0,1,2,3,6,7,8,9,10,11]].values\n",
    "X = x.iloc[:,[0,1,2,3]].values\n",
    "y = x.iloc[:,-1].values\n",
    "X\n",
    "y"
   ]
  },
  {
   "cell_type": "code",
   "execution_count": 167,
   "metadata": {
    "collapsed": true
   },
   "outputs": [],
   "source": [
    "labelencoder_X_1 = LabelEncoder()\n",
    "X[:, 1] = labelencoder_X_1.fit_transform(X[:, 1])\n",
    "labelencoder_X_2 = LabelEncoder()\n",
    "X[:, 2] = labelencoder_X_2.fit_transform(X[:, 2])\n",
    "labelencoder_X_3 = LabelEncoder()\n",
    "X[:, 3] = labelencoder_X_3.fit_transform(X[:, 3])"
   ]
  },
  {
   "cell_type": "code",
   "execution_count": 168,
   "metadata": {},
   "outputs": [
    {
     "data": {
      "text/plain": [
       "array([[20.0, 0, 10, 8],\n",
       "       [300.0, 0, 10, 8],\n",
       "       [30.0, 0, 10, 8],\n",
       "       ..., \n",
       "       [320.0, 0, 10, 8],\n",
       "       [35000.0, 0, 10, 8],\n",
       "       [25000.0, 0, 10, 8]], dtype=object)"
      ]
     },
     "execution_count": 168,
     "metadata": {},
     "output_type": "execute_result"
    }
   ],
   "source": [
    "X"
   ]
  },
  {
   "cell_type": "code",
   "execution_count": 169,
   "metadata": {},
   "outputs": [
    {
     "data": {
      "text/plain": [
       "array([1, 0, 0, ..., 1, 0, 0])"
      ]
     },
     "execution_count": 169,
     "metadata": {},
     "output_type": "execute_result"
    }
   ],
   "source": [
    "y"
   ]
  },
  {
   "cell_type": "code",
   "execution_count": 184,
   "metadata": {},
   "outputs": [
    {
     "name": "stderr",
     "output_type": "stream",
     "text": [
      "/home/anmol/anaconda3/lib/python3.6/site-packages/sklearn/utils/validation.py:475: DataConversionWarning: Data with input dtype object was converted to float64 by StandardScaler.\n",
      "  warnings.warn(msg, DataConversionWarning)\n"
     ]
    }
   ],
   "source": [
    "# Splitting the dataset into the Training set and Test set\n",
    "from sklearn.model_selection import train_test_split\n",
    "X_train, X_test, y_train, y_test = train_test_split(X, y, test_size = 0.2, random_state = 0)\n",
    "\n",
    "from sklearn.preprocessing import StandardScaler\n",
    "sc = StandardScaler()\n",
    "X_train = sc.fit_transform(X_train)\n",
    "\n",
    "# Fitting XGBoost to the Training set\n",
    "from xgboost import XGBClassifier\n",
    "classifier = XGBClassifier(learning_rate =0.01,\n",
    "                         n_estimators=5000,\n",
    "                         max_depth=4,\n",
    "                         min_child_weight=6,\n",
    "                         gamma=0,\n",
    "                         subsample=0.8,\n",
    "                         colsample_bytree=0.8,\n",
    "                         reg_alpha=0.005,\n",
    "                         objective= 'binary:logistic',\n",
    "                         nthread=4,\n",
    "                         scale_pos_weight=1,\n",
    "                         seed=27)\n",
    "classifier.fit(X_train, y_train)\n",
    "\n",
    "# Predicting the Test set results\n",
    "y_pred = classifier.predict(X_test)\n",
    "\n",
    "# Making the Confusion Matrix\n",
    "from sklearn.metrics import confusion_matrix\n",
    "cm = confusion_matrix(y_test, y_pred)"
   ]
  },
  {
   "cell_type": "code",
   "execution_count": 185,
   "metadata": {},
   "outputs": [
    {
     "data": {
      "text/plain": [
       "array([[14824,     0],\n",
       "       [ 6802,     0]])"
      ]
     },
     "execution_count": 185,
     "metadata": {},
     "output_type": "execute_result"
    }
   ],
   "source": [
    "cm"
   ]
  },
  {
   "cell_type": "code",
   "execution_count": 147,
   "metadata": {},
   "outputs": [
    {
     "data": {
      "text/plain": [
       "0.6854711920836031"
      ]
     },
     "execution_count": 147,
     "metadata": {},
     "output_type": "execute_result"
    }
   ],
   "source": [
    "(14824/(14824+6802))"
   ]
  },
  {
   "cell_type": "markdown",
   "metadata": {},
   "source": [
    "## 2nd Approach - Using Some Sentiment Analysis in Description of DataSet "
   ]
  },
  {
   "cell_type": "code",
   "execution_count": 19,
   "metadata": {},
   "outputs": [
    {
     "data": {
      "text/html": [
       "<div>\n",
       "<style>\n",
       "    .dataframe thead tr:only-child th {\n",
       "        text-align: right;\n",
       "    }\n",
       "\n",
       "    .dataframe thead th {\n",
       "        text-align: left;\n",
       "    }\n",
       "\n",
       "    .dataframe tbody tr th {\n",
       "        vertical-align: top;\n",
       "    }\n",
       "</style>\n",
       "<table border=\"1\" class=\"dataframe\">\n",
       "  <thead>\n",
       "    <tr style=\"text-align: right;\">\n",
       "      <th></th>\n",
       "      <th>desc</th>\n",
       "      <th>goal</th>\n",
       "      <th>disable_communication</th>\n",
       "      <th>country</th>\n",
       "      <th>currency</th>\n",
       "      <th>backers_count</th>\n",
       "      <th>final_status</th>\n",
       "    </tr>\n",
       "  </thead>\n",
       "  <tbody>\n",
       "    <tr>\n",
       "      <th>0</th>\n",
       "      <td>I like drawing pictures. and then i color them...</td>\n",
       "      <td>20.0</td>\n",
       "      <td>False</td>\n",
       "      <td>US</td>\n",
       "      <td>USD</td>\n",
       "      <td>3</td>\n",
       "      <td>1</td>\n",
       "    </tr>\n",
       "    <tr>\n",
       "      <th>1</th>\n",
       "      <td>I, Dereck Blackburn will be taking upon an inc...</td>\n",
       "      <td>300.0</td>\n",
       "      <td>False</td>\n",
       "      <td>US</td>\n",
       "      <td>USD</td>\n",
       "      <td>2</td>\n",
       "      <td>0</td>\n",
       "    </tr>\n",
       "    <tr>\n",
       "      <th>2</th>\n",
       "      <td>So I saw darkpony's successfully funded drawin...</td>\n",
       "      <td>30.0</td>\n",
       "      <td>False</td>\n",
       "      <td>US</td>\n",
       "      <td>USD</td>\n",
       "      <td>0</td>\n",
       "      <td>0</td>\n",
       "    </tr>\n",
       "    <tr>\n",
       "      <th>3</th>\n",
       "      <td>Do your part to help out starving artists and ...</td>\n",
       "      <td>500.0</td>\n",
       "      <td>False</td>\n",
       "      <td>US</td>\n",
       "      <td>USD</td>\n",
       "      <td>18</td>\n",
       "      <td>1</td>\n",
       "    </tr>\n",
       "    <tr>\n",
       "      <th>4</th>\n",
       "      <td>I'm nearing completion on a sculpture, current...</td>\n",
       "      <td>2000.0</td>\n",
       "      <td>False</td>\n",
       "      <td>US</td>\n",
       "      <td>USD</td>\n",
       "      <td>1</td>\n",
       "      <td>0</td>\n",
       "    </tr>\n",
       "  </tbody>\n",
       "</table>\n",
       "</div>"
      ],
      "text/plain": [
       "                                                desc    goal  \\\n",
       "0  I like drawing pictures. and then i color them...    20.0   \n",
       "1  I, Dereck Blackburn will be taking upon an inc...   300.0   \n",
       "2  So I saw darkpony's successfully funded drawin...    30.0   \n",
       "3  Do your part to help out starving artists and ...   500.0   \n",
       "4  I'm nearing completion on a sculpture, current...  2000.0   \n",
       "\n",
       "   disable_communication country currency  backers_count  final_status  \n",
       "0                  False      US      USD              3             1  \n",
       "1                  False      US      USD              2             0  \n",
       "2                  False      US      USD              0             0  \n",
       "3                  False      US      USD             18             1  \n",
       "4                  False      US      USD              1             0  "
      ]
     },
     "execution_count": 19,
     "metadata": {},
     "output_type": "execute_result"
    }
   ],
   "source": [
    "list = ['project_id','name', 'keywords' , 'deadline' , 'state_changed_at' , 'created_at' , 'launched_at']\n",
    "x2 = data.drop(list,axis = 1 )\n",
    "x2.head()"
   ]
  },
  {
   "cell_type": "code",
   "execution_count": null,
   "metadata": {
    "collapsed": true
   },
   "outputs": [],
   "source": [
    "# import re\n",
    "# x2['desc'] = x2['desc'].apply((lambda x: re.sub('[^a-zA-z\\s]','',str(x))))\n",
    "# x2['desc'] = x2['desc'].apply(lambda x: x.lower())"
   ]
  },
  {
   "cell_type": "code",
   "execution_count": 24,
   "metadata": {},
   "outputs": [
    {
     "data": {
      "text/plain": [
       "(108129, 7)"
      ]
     },
     "execution_count": 24,
     "metadata": {},
     "output_type": "execute_result"
    }
   ],
   "source": [
    "x2.shape"
   ]
  },
  {
   "cell_type": "code",
   "execution_count": null,
   "metadata": {
    "collapsed": true
   },
   "outputs": [],
   "source": [
    "import nltk\n",
    "nltk.download('stopwords')\n",
    "from nltk.corpus import stopwords\n",
    "from nltk.stem.porter import PorterStemmer\n",
    "import re\n",
    "corpus = []\n",
    "for i in range(0,108129):\n",
    "    review = re.sub('[^a-zA-Z]', ' ', x2['desc'][i])\n",
    "    review = review.lower()\n",
    "    review = review.split()\n",
    "    ps = PorterStemmer()\n",
    "    review = [ps.stem(word) for word in review if not word in set(stopwords.words('english'))]\n",
    "    review = ' '.join(review)\n",
    "    corpus.append(review)\n"
   ]
  },
  {
   "cell_type": "code",
   "execution_count": 22,
   "metadata": {},
   "outputs": [
    {
     "data": {
      "text/plain": [
       "108129"
      ]
     },
     "execution_count": 22,
     "metadata": {},
     "output_type": "execute_result"
    }
   ],
   "source": [
    "# Backup\n",
    "with open('test.txt', 'r') as f:\n",
    "    corpus = f.read().splitlines()\n",
    "#     corpus.append(myNames)\n",
    "len(corpus)   "
   ]
  },
  {
   "cell_type": "code",
   "execution_count": 23,
   "metadata": {},
   "outputs": [
    {
     "data": {
      "text/plain": [
       "['like draw pictur color thought would suggest someth draw someon want',\n",
       " 'dereck blackburn take upon incred journey month may travel hometown kankake',\n",
       " 'saw darkponi success fund draw dollar project thought that fun drew guy im call',\n",
       " 'part help starv artist help write second novel finish write first novel',\n",
       " 'im near complet sculptur current titl unnam man stand approxim inch tall',\n",
       " 'im fledgl videoblogg live brooklyn ny webcast im make check httpwwwyoudigestcom',\n",
       " 'independ iphon develop believ free softwar recent releas iphon app assist user goozex',\n",
       " 'drive faster car httpwwwdriveafastercarcom person project love mine past eight year blog',\n",
       " 'open friday june view septemb tini giant sandwich shop rivington st nyc michael',\n",
       " 'project choos adventur paint seri work pledg put line',\n",
       " 'independ pr practition longtim interest vote machin help write book chronicl',\n",
       " 'want creat artist book draw inspir digit pixel what artist book work art form book cours',\n",
       " 'pictur charact would like sculpt high qualiti game miniatur forsak man abandon saniti face',\n",
       " 'make cool icon iphon develop httpglyphishcom collect donat ill releas whole set',\n",
       " 'profession creator produc web video seri burg allfornot all fair put togeth',\n",
       " 'project pedal independ documentari shift perspect travel alon thousand mihellip',\n",
       " 'throw parti celebr releas frank erotica issu host mo def francesco clement',\n",
       " 'creat crossword puzzl appear among place new york time wall street journal game magazin',\n",
       " 'day popup art galleri work depict exgovernor rod blagojevich aka blago',\n",
       " 'broke film student creat campaign call might becom movi destin help us rais fund short film',\n",
       " 'postcard fun make fun send fun receiv want send postcard everi day one year start june st',\n",
       " 'three year ago move texa spend entir life midwest summer spend week travel',\n",
       " 'hi fundrais qualiti watercolor brush set homeland bosnia justic summer check project',\n",
       " 'recent paint show decor nihil close new york citi show want share work',\n",
       " 'documentari explor unschool homeschool without artifici structur formal educ advic answer kid parent',\n",
       " 'gamecamp athen need help launch first camp juli money go equip scholarship kid hire expert',\n",
       " 'help interview peopl designfocus podcast year due econom troubl great recess downsiz',\n",
       " 'one favorit album time put tini littleknown label portsmouth new hampshir fall',\n",
       " 'fli kebab independ internet video seri featur nando photograph pass one year search inherit lebanon',\n",
       " 'help us complet featurelength documentari futur independ music industri',\n",
       " 'tri rais print new album',\n",
       " 'project creat free iphon app brows wikipedia offlin code open sourc ill launch',\n",
       " 'im draw composit face photo friend draw seri combin final one face deriv',\n",
       " 'object creat method use social media network ie twitter facebook futur incarn yet',\n",
       " 'help us creat wacki sidescrol actionadventur game bit graphic hand paint background xbox live arcad pc',\n",
       " 'math tough math bore make want cri common knowledg well could chang make fun game',\n",
       " 'polyvinyl need help distributor warehous downsiz consolid either need destroy',\n",
       " 'zombi theyr problem one want address zombpocalyps go upon us importantli',\n",
       " 'content aggreg person person',\n",
       " 'gnash open sourc framework phpmysql applic develop part cm part framework part form editor',\n",
       " 'dawn quixot chapter first invit edinburgh fring festiv scotland two solid week show run',\n",
       " 'band abil stay road vital that hard guy truck',\n",
       " 'hello internet friend record new record summer cant get road without love',\n",
       " 'meet andrei tarkovski documentari death legaci one russia famou director need help',\n",
       " 'independ featur film need assist product cost',\n",
       " 'big art project began createit number paint may see httpwwwznenterpris',\n",
       " 'citi design promot tour share onlin later compil hardcov book seek understand creativ',\n",
       " 'ive begun prototyp lowcost led light kindl id like finish product someth offer',\n",
       " 'hello ive work novel cape year time finish share world',\n",
       " 'skeleton dont sleep true heartbreak triumphant stori adopt betray abus final justic',\n",
       " 'help record produc new rockfus album get thank big way',\n",
       " 'get earli get reward insid look friend fan want join team',\n",
       " 'hello internet name allison weiss im record new ep summer itll eight song long pack kind awesom',\n",
       " 'work debut album past month need help print album help receiv cool stuff',\n",
       " 'uncl humor cultur magazin writer media peopl want fund limit print run third issu theme summertim',\n",
       " 'want offer afford print paint kinda pricey need physic paper object sell ship',\n",
       " 'bring togeth youth albania kosovo montenegro climb tripeak balkan peac park countri meet summit',\n",
       " 'last may creat mission reunit brilliant opinion underappreci band kink decid make',\n",
       " 'work book quit time readi make copi master shop around variou',\n",
       " 'imagin world hollywood sesam street collid puppet live real world yearn mainstream accept',\n",
       " 'basic idea one million squar inch detroit michigan creat inch call jerri discuss',\n",
       " 'hello kickstart rvng small brooklynbas record label focus releas limit run electron music mix edit',\n",
       " 'want give hundr multicolor led fill balloon floati hoosac river light festiv north adam august',\n",
       " 'help independ game develop promot free game platform playground game titl beatz see video detail',\n",
       " 'seri three polit ad address import polit current affair issu effect nation also funni',\n",
       " 'five time august need support releas next album preorder copi get cool prize give get',\n",
       " 'video game crystal skull shadow peopl flash light wield teenag string theori chao theori multivers talk cat',\n",
       " 'portrait discov midwestern diner share vivid stori creat tightknit commun',\n",
       " 'synttof httpwwwmyspacecomtophsynt lp ormolycka project oo httpwwwormolyckacomoo',\n",
       " 'first solo album monday august th spend one day studio wonder sean slade get album start',\n",
       " 'greenlight buy chang wish see world',\n",
       " 'guy agre go shop better halv regret man chair app offer digit oasi fight boredom',\n",
       " 'selfsign independ artist state man turn public help save nation releas place servicehuman tour',\n",
       " 'follow along explor new york citi tattoo cultur',\n",
       " 'zombi short film shot film savannah ga midoctob senior film start franchis',\n",
       " 'name shwa im independ songwrit im work new album think realli great need help finish',\n",
       " 'yearli festiv design transform katrina relat public around anniversari exposur donat nonprofit artist',\n",
       " 'ive got boat ive got plan help get sv bobbi readi go around world',\n",
       " 'sponsor brooklyn punk band debut seveninch mr dream goe jail',\n",
       " 'help littl write commun big ideal pay host year',\n",
       " 'creat world first crowdsourc custom voic platform',\n",
       " 'facilit creation commun mosaic mural kenyan youth rudolph steiner school outsid nairobi part artist resid',\n",
       " 'offer uniqu look studi texa earli histori',\n",
       " 'rais fund publish children book give famili posit introduct anim shelter proce donat pspca',\n",
       " 'hi im chri mckay critic darl weve come hope togeth make great music get ton cool stuff',\n",
       " 'ozi reign futur music peopl familiar sound know googl help ozi reign complet ep la upport renaiss',\n",
       " 'scroll email custom email applic accept email messag read without use scroll bar',\n",
       " 'redeem comic book rock n roll n redempt look independ publish four issu',\n",
       " 'one best debut album young independ artist',\n",
       " 'im make album dream perhap dream dylan say ill let dream',\n",
       " 'seri video educ public health care reform video avail public privat viral use',\n",
       " 'name april smith im work new album im look help fan get fund togeth start right',\n",
       " 'project assist start art design studio chicago locat logan squar upcom art commun',\n",
       " 'tri rais market promot new record livin dream get exclus reward opportun',\n",
       " 'fli kebab communityfund internet video seri featur nando photograph pass one year search inherit lebanon',\n",
       " 'underground librari bookmak distribut commun project circul nonestablish word film music mysteri',\n",
       " 'im host knit loung media center bryant park hotel fashion week merg craft knit art fashion',\n",
       " 'record malian mand music album bamako mali w finest musician land bambara song us folk singer',\n",
       " 'may record album georgia theatr georgia theatr destroy fire let make record save theatr',\n",
       " 'got next documentari fight game scene follow live player eastwest rivalri street fighter releas',\n",
       " 'william brittel televis landscap genrebash fullycompos chamber pop concept album dub invigor new york time',\n",
       " 'project document children born rwanda postgenocid photograph interview',\n",
       " 'im record first fulllength worship album origin song want invit part',\n",
       " 'final book chicago music scene longawait chronicl windi citi memor decad music readi go',\n",
       " 'pesipop make awesom stuff awesom peopl help get joy pesipop hand onto bodi peopl',\n",
       " 'fundrais support indi rock artist musician play guitar london octob promot music new cd',\n",
       " 'adventur power new movi bill graham foundat hold fundrais empow children music',\n",
       " 'would like build giant theremin room theremin antenna suspend ceil peopl play music bodi',\n",
       " 'back us wear see show great student art weve collect artloop partner school nyc goe right back art program',\n",
       " 'two year crave creativ outlet promis front excus behind thank advanc',\n",
       " 'filmmak journey truth behind american dream reveal life long lesson taught america greatest innov entrepreneur',\n",
       " 'new featur film reid gershbein star brian spaeth kevin r wright',\n",
       " 'project cross believ miracl better late never',\n",
       " 'wacki actioncomedi extravaganza featur zombi ninja jet packwear pirat weapon onlin coop achiev ton',\n",
       " 'two univers utah chemist announc solv world energi problem electr seawat jar',\n",
       " 'bookcd michael hearst featur song factoid celebr bizarr underappreci anim roam planet',\n",
       " 'weve cross ocean arriv safe home shore magnific set await us till sept th reach goal',\n",
       " 'jess thorn adam lisagor want make web video seri help men get dress like grownup produc',\n",
       " 'rais fund order finish product promot new album devil storm',\n",
       " 'help rais money travel oregon record new album',\n",
       " 'falcon lord made ultim parti record fight crime save citi love back project receiv sweet prize',\n",
       " 'undergrad record webseri document journey colleg grad start independ record label',\n",
       " 'watch five episod right help us make remain episod st nd season love god pleas zoop',\n",
       " 'bring histor think creativ fun kid rural georgia makebeliev music game get sign copi annett book',\n",
       " 'miro free nonprofit opensourc video player use million peopl help us connect video maker world subtitl support',\n",
       " 'face express mask one man exhibit creativ work christoph mack',\n",
       " 'aux invit german experiment music group faust perform workshop octob athen georgia pleas help us make happen',\n",
       " 'fall histor photograph project stage cambodia reestablish art cultur memori genocid goal',\n",
       " 'send america famou graffiti street artist sderot border gaza battl terror rocket art messag uniti',\n",
       " 'panda art cafpub featur eclect galleri experi set locat downtown nyc fall',\n",
       " 'perform edit unpublish baroqu music',\n",
       " 'dogwalk miss week happen help privat investig jerri palac hope track write book',\n",
       " 'march road trip film lower manhattan brooklyn reveal far go person profession glori',\n",
       " 'showpap age newsprint list beauti posters artwork pleas donat next issu keep print',\n",
       " 'music reach children autism way littl els listen learn song collect special audiencehelp hear',\n",
       " 'largescal medit paint creat stream buddhist medit societi public medit center lo angel',\n",
       " 'draw inspir shakespear sonnet red book sonnet captur beauti brillianc reflect yet sensuous intim poetri',\n",
       " 'la rubia del nort need help finish third album track mostli record need mix master mid novemb',\n",
       " 'would realli fantast see florin ep put vinyl especi help friend',\n",
       " 'wanna keep awesom littl label rock releas blast order copi help duct tape togeth',\n",
       " 'teach children second third languag must compet global economi',\n",
       " 'internet video documentari seri follow modernday new orlean blacksmith joe strain struggl maintain balanc life work',\n",
       " 'make movi coldhand product biggest budget expens camera rental want buy good one',\n",
       " 'give receiv harmoni matrimoni help finish record first monahan ep receiv merchandis perk return',\n",
       " 'featur length anim film noir music modern twist anim music meld edgeofyourseat entertain',\n",
       " 'eu record need help warehous overcrowd cd lp need clear get destroy',\n",
       " 'play languag poetri type illustr stori dictionari bring word life',\n",
       " 'build mt rushmor style monument citi mayor whose four jurisdict border pretti suburban intersect',\n",
       " 'record album rock cello song six origin five cover readi master print releas',\n",
       " 'let help freelanc small busi collect money owe expos busi stif payment dont pay',\n",
       " 'blurbi',\n",
       " 'explor statist display kickstartercom endeavor pull nichola felton fame inform graphic design',\n",
       " 'posit feedback mechan wast compani time internet',\n",
       " 'explor classic style portraitur figur paint inspir social network crowd particip',\n",
       " 'project help communtiy concert seri take place past three year commun munci indiana',\n",
       " 'dream mea documentari chang face public educ america',\n",
       " 'telegraph curat video space focu nonfict storytel art around world help filmmak promot work',\n",
       " 'luciastori dominican bilingu collect illustr children book creat anya damirn illustr pablo pino',\n",
       " 'first time short film need fund complet sent festiv help produc part product',\n",
       " 'goal creat album bring inspir',\n",
       " 'concern futur art began bone brush help nyc public school system improv art music program',\n",
       " 'translat mobi dick japanes emoji icon use amazon mechan turk',\n",
       " 'rais make first thousand copi first album beauti damag physic copi much need promot music',\n",
       " 'turba puzzl game let use music comput shape game play develop recent colleg grad',\n",
       " 'help put indierootsrock band back track tour',\n",
       " 'would like make film nepal amaz costeffect opportun pleas visit websit detail',\n",
       " 'jen woodhous hit road fall cant without help back project get cool exclus stuff return',\n",
       " 'princeton graduat alumni saw watercolor school holiday card get sign number print card',\n",
       " 'erector set internet age bone gristl open sourc revolut minit makerbeam',\n",
       " 'mof multiscreen video piec project onto water concret wall shallow river north adam made hoosac river light iia',\n",
       " 'andi warhol paint stolen la help get wordand imagesout giant crime alert poster also there mm reward',\n",
       " 'ukulel act helen keller ukulel go berlin nov dec short must cd print take well travel expens',\n",
       " 'donat go directli purchas art suppli book educ children isithumba villag south africa',\n",
       " 'station noncommerci low power radio station broadcast hamtramck mi id like build studio play local vinyl',\n",
       " 'photoessay book manag live well bipolar disord',\n",
       " 'clare reason brooklyn base band second album arrow come oct thwe want play',\n",
       " 'help us finish cd promot correctli master print promot materi manufactur disc etc',\n",
       " 'make awardwin short stori avail net perpetu creativ common licens',\n",
       " 'road movi follow chines reconstruct benguela railway angola epicent china ascent next superpow',\n",
       " 'im replac project anoth one watercolor httpwwwkickstartercomprojectsdavidliaochristmaswatercolorforsal',\n",
       " 'paint art commiss card princeton sent alumni pledg meet bounti releas art public domain',\n",
       " 'fabric rage costli machin slow turn around time hinder innov help us start first free print servic',\n",
       " 'stori bibl especi strong women retuld charact ive complet readi publish',\n",
       " 'finney brother mike scott go releas cd origin classic music',\n",
       " 'documentari woman quest understand root famili poverti homeless reveal nation histori displac loss',\n",
       " 'late night talk show along line tonight showcharli rose go entertain',\n",
       " 'dadaist gone wild dadaistsurrealist platform game pc much larger sequel freewar game dadaist gone wild',\n",
       " 'flywrench game ive work past two year need fund',\n",
       " 'start stori bring viscer magic back world readi bring',\n",
       " 'texa south project bring local band state texa one commun',\n",
       " 'attempt build first underground musicianartist directori incorpor work ongo anim web seri',\n",
       " 'reson ambiti retrostyl pointandclick adventur game bring matur storylin innov new gameplay genr',\n",
       " 'holli la need support make first music video indi pop artist need hot video hot new singl poison',\n",
       " 'home base independ puzzl game near complet could use support effort sell game',\n",
       " 'im write detect stori set halfway san francisco internet peopl reserv copi better one',\n",
       " 'five friend one tragedi parti short film care peopl film shot noth sadli festiv need fee',\n",
       " 'hope record next full length album vinyl help believ us dream great lp vinyl',\n",
       " 'want construct origin interconnect holidaythem crossword solv pencilpap includ',\n",
       " 'citizen icon seek team member invest new ep',\n",
       " 'need fund gay bigfoot show anim pilot cross space ghost coast coast celebr interview queer duck',\n",
       " 'foundsound beat mangler ken rei put lp dont miss chanc get space crunk thrash custom gear gameboy',\n",
       " 'dr bonesaw like grey anatomi serial murder loos plan go littl crazi lot fun make',\n",
       " 'help us pay entri fee independ game festiv satur dreamer use fmod sound engin misc cost',\n",
       " 'three us compos us perform minut program featur new chamber work take road',\n",
       " 'loom record first fulllength album help us make happen get reward return',\n",
       " 'need new project brooklyn ny base choreographermusicianartist nanci garcia',\n",
       " 'hi made music video video need promot get airplay show like mtvbet etc appreci everi fan support help',\n",
       " 'get origin art help restor oil paint paper partial stuck archiv interleav part',\n",
       " 'start etsi store sell artwork rais fund medic mission work around globe help us buy equip',\n",
       " 'derek jame pregnant new album need deliv label ill make record',\n",
       " 'like manga art work manga plenti art work',\n",
       " 'im record fivesong album get start make cd',\n",
       " 'help tristat allag music list print next issu',\n",
       " 'move detroit squar inch join adventur loveland collabor activ transform real properti around citi',\n",
       " 'land dream releas new album preorder cd donat receiv sundri fantast gift dr christma biplan',\n",
       " 'creat collabor design commun mosaic sculptur playground mosaic train center locat nungua ghana west africa',\n",
       " 'attempt write shoot edit releas one shortfilm everi week fifti week featur new origin charact',\n",
       " 'state collabor public art project unit artist writer creat free piec art',\n",
       " 'electronola final stage record near complet preorder get custom extra',\n",
       " 'use open sourc softwar',\n",
       " 'dolli trolli complet record song demo full infecti harmoni catchi melodi need push get finish',\n",
       " 'michael crow lenka clayton write person handwritten letter everi household world',\n",
       " 'paus orlando fl head studio earli next year record j robbinsor',\n",
       " 'help tattl tale record next album',\n",
       " 'hard work second album rais need fund offer fan great prize exchang support',\n",
       " 'mission creat badass word ep ever need help',\n",
       " 'takeachancetuesdaycom awesom site forc us take chanc hold us account provid place encourag',\n",
       " 'chirp work two year organ build new commun radio station campaign help launch onlin version fall',\n",
       " 'use cigarett machin recycl distribut art craft',\n",
       " 'finish film greatest instrument world tuck away ireland pub kitchen wont seen without support',\n",
       " 'music cross border provid high energi interact assembl design expos children age music around globe',\n",
       " 'twimot web applic project develop enhanc way twitter user integr twitter websit market twitter',\n",
       " 'need donat support get first ep return donat get ep exclus stuff',\n",
       " 'xyz affair go lisa mcdowel ask donat record second full length album',\n",
       " 'introduc newli finish featur caper adventur call red machin make web seri star support charact',\n",
       " 'like comic graphic novel want follow along one made know help make happen want get origin art cool stuff',\n",
       " 'kickstart project rais fund heart texa labrador rescu specif kestral fund labrador need extra care',\n",
       " 'short documentari harri hong first man offici max origin ne tetri achiev unbeat score',\n",
       " 'spartan life talk show game space invit peopl game halo xbox live interview bullet fli',\n",
       " 'let make like rock star make cd soul vocal smooth vibe lot sax',\n",
       " 'paint topograph new media paint manhattan use mix paint mix plastic lcd screen',\n",
       " 'color symmetri light shadow mandala project strive creat public instal evok emot energi joy',\n",
       " 'film treatment need examin past remov import free energi trap past reveal life purpos',\n",
       " 'produc major featur film life work leonardo da vinci produc read current script revis market',\n",
       " 'limitededit cookbook recip winter season soup bread free weekli soup meal fundrais hideout chicago',\n",
       " 'im publish hard cover version novel heaven dust jacket come song cd ep',\n",
       " 'night punk throwback horror short vein return live dead evil dead shoot earli',\n",
       " 'freeq innov iphon gameinteract radio drama fund featur voic anessa ramsey teddi dunn',\n",
       " 'like laugh love laugh riot',\n",
       " 'project involv culmin best articl trailer trash antholog publish book commemor year zine',\n",
       " 'ink draw simplifi life essenc see spirit line new york citi peopl place travel',\n",
       " 'thriller design dna hacker russian mobster govern biowarfar program creationist diseas cowboy gypsi truck love',\n",
       " 'commun base fund new ep releas stripmal architectur',\n",
       " 'four commonplac event connect unnot sinist thread fund ill releas creativ common licens',\n",
       " 'mac x web x iphon project upload host share bit',\n",
       " 'releas pastel jersey shore public domain reward includ autograph limit edit print',\n",
       " 'first proper album want make best thing ever heard like wont best thing ever heard',\n",
       " 'blue kitabu open bookstor caf perform spot local musician proce go educ project africa',\n",
       " 'follow hint discov fli kebab nando get deeper stori peopl knew aunt',\n",
       " 'help save world walk mile toward copenhagen climat chang summit',\n",
       " 'life berkeley literari antholog collect short stori essay awardwin alumni writer',\n",
       " 'homecom film find home despit tragedi cultur differ',\n",
       " 'beauti glow ghost standard yard dumpster',\n",
       " 'rang project relat comput histori ive day job year recent layoff chanc finish bunch',\n",
       " 'electron art genr goal make news site peopl insid outsid cultur search around',\n",
       " 'may think fusion reactor that excit see fusion everi day often see fusion insid bubblegum',\n",
       " 'either design accid day probabl thrust back time prepar help complet time travel surviv guid',\n",
       " 'everi dollar get squar inch properti detroit mi that start premis build stuff togeth pretti simpl',\n",
       " 'mural robot print wall ill make easytoassembl kit print art wall',\n",
       " 'art made real medicin inconsum folk candi store parodi healthcar industri head tijuana mexico',\n",
       " 'tri gain pledg small record studio record collect popular holiday song benefit kid children hospit',\n",
       " 'name paul gratton ia band finn mile record new ep im excit kickstart latest project friend fan like',\n",
       " 'weve invest year almost k get featurelength doc stand today help us wrap last stage postproduct',\n",
       " 'futur short anim film creat entir autist development disabl artist land program brooklyn new york',\n",
       " 'selfpublish first children book pledg toward current goal k fund illustr edit layout thank',\n",
       " 'zomband topdown zombi surviv game xbox blend roguelik gameplay element realtim action',\n",
       " 'union coffe tabl photo book inspir energet intens photo union squar nyc memori',\n",
       " 'oti short film love loss griev deal deep human emot situat person could relat',\n",
       " 'absenc sun spiritu love stori passion journey love awaken etern lead space within',\n",
       " 'risk factor collect monologu detail young woman experi breast cancer true raw pain funni inspir',\n",
       " 'stori food recip feel good',\n",
       " 'im filmmak work year music theme featur film rais market budget cross countri tour movi screen new york',\n",
       " 'parti documentari journalist whose videotap led civil right lawsuit uncov polic spi ring',\n",
       " 'discov life new countri though visual design one handmad book everi season year time',\n",
       " 'chang percept pit bull paint forc peopl stop look dog need crate ship thank',\n",
       " 'need help preserv sonic histori click donat',\n",
       " 'make fulllength record origin popjazz song sound like ella fitzgerald ride bike ball gown flip flop',\n",
       " 'shot locat virginia seri focus divers group individu somehow connect ruthless businessman edward coleman',\n",
       " 'leav arabi stage music coup want make record fan support involv real tangibl way',\n",
       " 'help put product solarpow colorchang holiday light',\n",
       " 'join road trip across heartland meet farmer write season market upcom book',\n",
       " 'im go school tanzania africa initi support commun art',\n",
       " 'circuit weekli live commun orient tech news digest air friday afternoon partnership livestreamcom',\n",
       " 'american standard need help press debut ep involv artist process receiv swag return',\n",
       " 'featur film deriv true stori life jigsaw puzzl made piec togeth',\n",
       " 'sean noth live least beauti vampir offer put miseri fall neck heel love',\n",
       " 'actor never got role tarzan play two movi embodi fullest stori one true king',\n",
       " 'wwwtheimpossiblegirlcom',\n",
       " 'aim prolifer art coffe tabl everywher photograph bodi work publish profession bound book format',\n",
       " 'memoir grow gay father physic mental handicap mother skeleton kept closet',\n",
       " 'project write illustr children book use littl red vespa abl obtainy red scooter world call',\n",
       " 'three year shesay organ free monthli event women digit need employ someon part time help us help women',\n",
       " 'mobil applic iphon android platform window ce help individu color defienc identifi color use camera',\n",
       " 'sinc record label hasnt grab im start help follow dream get thing need launch super stardom',\n",
       " 'want go bali studi shadow puppetri share experi kid afterschool theater program',\n",
       " 'social network social bare network flit focus content follow convers updat',\n",
       " 'battl brooklyn chronicl six year commun fight massiv real estat develop use emin domain take peopl home',\n",
       " 'write book selfhelp manual sort full whimsic inform tip stori greeni stale gal gener oblivi',\n",
       " 'invent new method repres visual space use binocular vision innov way take look new popupcard',\n",
       " 'partner kickstart releas track digit ep reach pledg goal releas new music',\n",
       " 'vision fun new mulitplay onlin rpg set ancient histori develop volunt beta stage schedul releas march',\n",
       " 'swallow love stori widow readi move forward life meet think perfect woman perfect come price',\n",
       " 'nocturn figur way get tour rig around dollar continu old project',\n",
       " 'im ask friend fann help fund make next chico mann album trickster kid',\n",
       " 'blue great band fantast engin record studio nyc setup need fund make record happen',\n",
       " 'inaugur concert syzygi new music collect featur new work emerg compos perform young talent musician',\n",
       " 'danc film project origin danc camera codirect vanessa voskuil ryan phillippi',\n",
       " 'squar inch detroit super fun excit inchvest today',\n",
       " 'portland famili adventur plan seri guidebook activ parent wish take content road',\n",
       " 'care weight love bacon bacon diet',\n",
       " 'artcult int creat mean recycl discard wood paper product promot art therapi nontrad commun wo fund',\n",
       " 'need sleep help inform support research help famili well keep simpl know your tire',\n",
       " 'stay tune project relaunch',\n",
       " 'paint honor women serv yet everi conflict peac year help honor women',\n",
       " 'comic wonder citi graphic novel trace mytholog origin new york citi want part',\n",
       " 'webcom stop cultur violenc aganst women intern artist creat onlin comic cult poetri book lucia variat',\n",
       " 'collect trash reef use scuba equip small boat effort protect marin life reduc effect heavi use other',\n",
       " 'help make next cd give money vocal sampl voic go sound great set composit',\n",
       " 'help develop larg relief paint instal reflect chang dynam landscap new york citi',\n",
       " 'liber experiment art cage time space tradit marketgovern tast first show bvill pari new york',\n",
       " 'univers thump forthcom orchestr pop album acclaim brooklynbas australian singersongwriterpianist greta gertler',\n",
       " 'im write literari novel social challeng individu obsess woman reach im tri self publish',\n",
       " 'help bring scifi graphic novel life receiv exclus updat digit copi book orign art even cameo',\n",
       " 'game take look like tehran postelect riot past june',\n",
       " 'build commun har power music art lover face social issu',\n",
       " 'leeward rail band would like perform fund rais concert benefit coastal librari museum ask expens cover',\n",
       " 'rise peaceballoon would like make music need cash return product servic love',\n",
       " 'goal haramb read program improv literaci skill berundian refuge children part haramb commun',\n",
       " 'art project mean artist discours vito acconci save life shirt amaz',\n",
       " 'end stori kcq get kill humbert make album album get fund fan',\n",
       " 'creat publish sixth book sweet poetri seri poetri book',\n",
       " 'award fulbright scholarship receiv advanc train south indian percuss academ year ive taken opport',\n",
       " 'man struggl death wife realiz may anoth chanc life togeth',\n",
       " 'podcast concert seri showcas classic music read new way donat get cd first podcast',\n",
       " 'share new jersey rais decemb ill uncopyright paint sell print campaign favorit paint',\n",
       " 'name manni blue im independ singersongwrit im work album think realli great need help finish',\n",
       " 'nietzsch circl independ art philosophi organ need build new websit current one selfdestruct',\n",
       " 'schoolchildren orphan tanzania affect hivaid use bottl cap creat huge peaceinspir mural',\n",
       " 'help fund first multiplex print collect get awesom reward access exclus content process',\n",
       " 'enraptur muse ive written album illumin esoter thread bind us let forg human wax',\n",
       " 'raw space gift start prototyp shop space need finish piec equip purchas offici open hous',\n",
       " 'look sponor help mission record new album song bring hope hurt',\n",
       " 'rais money print press allow return printmak press limit could creat',\n",
       " 'userselizabethdropboxporncopi kickstart super crazi lit world magic glow light',\n",
       " 'launch decemb becom part largest public art project mccarren park histori support jason krugman live object',\n",
       " 'record cd origin song collect design packag distribut releas produc music video secur record deal major label',\n",
       " 'yearlong project record suit cello solo j bach along digit public new music edit intern',\n",
       " 'help artist behind aravist creat eightarm fulli articul doll',\n",
       " 'plan spend year creat paint day would like rais fund suppli',\n",
       " 'hey peopl tri bring longlost barbq killer album come back life via proper reissu',\n",
       " 'vapidu design believ world art want bring mass larger way ever dream let',\n",
       " 'rew onlin show host singersongstress rew focus artist commun nyc planet',\n",
       " 'espp offer limitededit print critic endang speci edit correspond endang anim plant popul',\n",
       " 'read learn teach grow everyon world stori tell pass along share other read learn teach grow',\n",
       " 'republ nyc base event plan compani exhibit design group seek pledg invest aid develop incorpor',\n",
       " 'need help fund new record major label die help lead transit new era grassroot product',\n",
       " 'card game play front audienc use youtub video',\n",
       " 'winter sound need help make next record fabul prize await',\n",
       " 'want make first qualiti horror adventur game iphon dont think anyon els tri innov handheld game experi',\n",
       " 'instal tree denver biennial america imagin futur gmo food via lush quirki hang sculptur',\n",
       " 'hitchcock inspir diari elois painter suspens thriller coupl go lake hous tri make relationship work',\n",
       " 'want photo essay pripyat abandon citi evacu chernobyl incid',\n",
       " 'put web seri men dress like grownup pilot complet help fund first sixepisod season',\n",
       " 'age rocket work track disc choos adventur style concept album would love help',\n",
       " 'portray larg paint crowd made paint support',\n",
       " 'cancel',\n",
       " 'want give away paint three month want give away join',\n",
       " 'hello coffey make record expens partner continu bring music experi new record',\n",
       " 'print cost need provac heartfelt calendar featur sexi peopl al plug whole die woman bank account',\n",
       " 'squar inch land detroit loveland first squar inch coloni plymouth past full pioneer inchvest today',\n",
       " 'rais money finish produc debut album arabian knightz titl unit state arabia global releas arab leagu record',\n",
       " 'hamilton ro entertain rais fund produc pilot episod two new comed web seri dt agenc extra famili fun show',\n",
       " 'kt plan first releas sale want get fan involv top support elig receiv gift bless',\n",
       " 'golden ear indi featur young woman who highli depend relationship best friend lead unexpect outcom',\n",
       " 'world renown artist collect bandwagon showcas travel shenanigan via blog exhibit van abbemuseum contemporari art',\n",
       " 'im partak humanitarian trip cuba educ studi music advocaci particularli young adult music',\n",
       " 'video game player associ engag videogam commun offer free social media platform titl vgpa societi',\n",
       " 'origin creat auric shelter help student final week uh help impact commun stressreliev sculptur',\n",
       " 'genesi seed episod epic sciencefict adventur steampunk aspect take place live planet',\n",
       " 'record press copi live comedi album vinyl perform comed chick rockin alterego leibya roger',\n",
       " 'short film stair delv deep insid jefferi brief dystopian world utterli depend health insur suddenli cut',\n",
       " 'support kid art studio brooklyn make futur bright see wwwirartcomshow',\n",
       " 'map storytel project aim connect empow women multimedia narr ident cultur',\n",
       " 'produc beauti dvdcd packag booklet still handmad collabor mm project year make',\n",
       " 'plan live santa fe month immers cultur paint one artist place planet',\n",
       " 'doesnt belong plastic pollut help journey atlant gyre research effect plastic debri marin life',\n",
       " 'new japanes song food move tokyo next year releas perform record sung let make record togeth fun',\n",
       " 'new jawdrop websit biggest podcast catalog poland podcastpl current page good want best help us today',\n",
       " 'weve got script actor crew schedul equip need wwwtrueperfectionfilmcom',\n",
       " 'complet video perform walk white space construct model railroad set recreat walk perform',\n",
       " 'groundbreak new album type album come along inspir gener lot passion emot think big',\n",
       " 'come month plan launch new tshirt compani omg dre success need qualiti product awesom parti let',\n",
       " 'help dylan movi finish longawait full length record',\n",
       " 'former found member atlant record artist firefal look reemerg mani year radar',\n",
       " 'spartanburg region transit author desper need new transit rout map could use help make happen',\n",
       " 'back delorean documentari color past present futur icon delorean luxuri car mani fan',\n",
       " 'book photographi document histori christian chines port citi dalian former coloni capit manchuria',\n",
       " 'josh dibb aka deacon anim collect want new music book cd end slaveri meet perform festiv au desert mali',\n",
       " 'kickstart album noth new kickstart sure someth big',\n",
       " 'comed webseri follow live four friend live togeth lo angel',\n",
       " 'hike stylish short paranorm thriller film strang occurr mountain near albuquerqu new mexico',\n",
       " 'band sunset invit play philadelphia help us get receiv special prize',\n",
       " 'pilot season episod educ webcast game show teach financi literaci concept kid fund go toward prize',\n",
       " 'group student independ creat catalog photographi depart school art institut chicago',\n",
       " 'help produc new chappo nyc album kickstart scifi bandit tour',\n",
       " 'awesom group peopl join togeth bring gold webseri doubl damag dvd',\n",
       " 'fund public prime mind book write scottodel awardwin author lafay',\n",
       " 'throw away billion paper cup year current solut work help us fund prize design contest stop wast',\n",
       " 'reanim librari coffer builder way peopl unabl attend librari decemb st fundrais support librari',\n",
       " 'asobi seksu band new york citi ask fan help support two upcom tour debt friend',\n",
       " 'first album final make year final posit messag hiphop due comeback let roll',\n",
       " 'ba gift debut album readi record beat readi rhyme place need studio time get done',\n",
       " 'help jamiel cox promot next album releas first quarter',\n",
       " 'goal repress defeat travel vinyl band tour veggi oil fuel van print merchandis recycl materi',\n",
       " 'bass ackward film lina phillip play next categori sundanc releas nationwid filmmak feb',\n",
       " 'hi name john samorian want make cd origin jazz vocal ive written lifelong dream time',\n",
       " 'longer empti nle transform vacant space public art exhibit w accompani program make silver line econom downturn',\n",
       " 'emerg art nonprofit organ want provid highqual low cost diy silk screen workshop youth adult chitown',\n",
       " 'make new fulllength album want fan record label',\n",
       " 'comel build websit empow artist share music free worship honor jesu help us finish site',\n",
       " 'premier perform composit song ye cube contemporari chamber ensembl june merit school music chicago',\n",
       " 'want creat set short film interview man great messag world spiritu master panach desai get full dvd',\n",
       " 'help freelanc journalist bill barol newsweek time slate fast compani answer realli big question',\n",
       " 'compos daniel corral accept attend appex artist resid bali need get plane ticket',\n",
       " 'powder keg get back studio record new ep part new record put keg indi sound map',\n",
       " 'imaginari town need real help rais fund display galleri draw biographi resid colorido',\n",
       " 'let crochet yurt one continu strand overs handfelt yarn reinvigor heritag tradit uniqu twist',\n",
       " 'asian father question sexual son tri make man take prostitut st birthday',\n",
       " 'devastatingli beauti armor dress sculptur built agav leav transform wing interact robot help built',\n",
       " 'go take cfl lightbulb programm thermostat reduc energi consumpt simpl idea big result',\n",
       " 'got back util media social network provid school uniform orphan haiti',\n",
       " 'id like selfpublish book hilari question ask far would go easi perhap easi million dollar',\n",
       " 'gyst ink artist run compani artist fundrais rewrit popular softwar artist ground',\n",
       " 'midnight hour orang counti ca need help final record debut record year plu youll get cool stuff',\n",
       " 'come januari godwil',\n",
       " 'set basic record keep produc song digit distribut fan world',\n",
       " 'action potenti biomed art work explor human free via sound silenc',\n",
       " 'temporarili transform italian ice shop travel agenc tourist inform offic winter month',\n",
       " 'togeth build louisiana resourc guid help improv live need louisiana anywher',\n",
       " 'pinataland new york finest darkoldweirdworld histori orchestrett aim record new album boy scout democraci',\n",
       " 'your ride bu walk home chilli night play nice game use headphon finger iphon pocket',\n",
       " 'support bren record first new vetran album year releas vinyl project includ song shirt',\n",
       " 'darlen mccullough write fantasi novel use kickstart gaug interest presel copi book',\n",
       " 'yr old jon baumann extrem talent guitarist look fund usatour tryout anywher record opportun',\n",
       " 'film give web seri give world real changemak voic film untold stori well travel asia africa join us',\n",
       " 'serv man five song dubstep ep mix live min set spun classic sci fi film edi togeth',\n",
       " 'current process take art next level world stage would like help make dream realiti',\n",
       " 'american woman pari scream bladder pursu french man fallen madli love see profil social site',\n",
       " 'random kind help tough time hope find perform separ kind act publish book document experi',\n",
       " 'dopeless hope fiend stori struggl trial heartbreak ultim enlighten experi drug addict',\n",
       " 'seri workshop architectur student rio de janeiro explor parametr design softwar digit fabric method',\n",
       " 'help produc nobudget punk rocker web seri donat fund keep show aliv receiv merch screen ticket walkon part',\n",
       " 'first fulllength cd long overdu pour liter project want incred',\n",
       " 'part make sara radl next solo record first preorder upcom cd',\n",
       " 'mama lchaim film festiv world want expand minut short film featur length documentari',\n",
       " 'new red loft big look awesom littl help',\n",
       " 'part kayl next jazz piano project help record releas next album',\n",
       " 'kwbk continu make music readi put new ep need help us sell cd rais money begin record',\n",
       " 'potenti true stori influenti alway drunk selfdestruct yet frighteningli brilliant rock band time',\n",
       " 'help hire band coach awesom teen band',\n",
       " 'rais money publish book',\n",
       " 'tub short film play sundanc year guy jerk shower accident impregn tub need help',\n",
       " 'want get music onto servic like itun amazon mp store among place use cd babi distribut servic',\n",
       " 'debo band collabor tradit ethiopian musician bring ethiopian music first time east africa largest music festiv',\n",
       " 'fall shoot new film clip big exit',\n",
       " 'collabor intern illustr make graphic version underground book lucia variat',\n",
       " 'hey internet im attempt rais januari record first album sound imposs know help',\n",
       " 'collect unbeliev true short stori cast charact comed mischiev',\n",
       " 'seek fund complet postproduct video document journey across africa tell stori unsung hero',\n",
       " 'xeric award win comic creator webcartoonist seek sexi intellig backer fund two relat floppi comic know good kind',\n",
       " 'postmedium wish provid free onlin updat portfolio new orlean artist galleri organ',\n",
       " 'laurel make possibl fourth art block serv art group theater artist year invest help whole commun',\n",
       " 'funni spooki new monster childish thing roleplay game book benjamin baugh art robert mansperg',\n",
       " 'sociallyawkward young man learn monkeypuppet peter interact stranger',\n",
       " 'fatherdaught busi look promot histori art cultur mexico open boutiqueev space san diego ca',\n",
       " 'set cornerston authmenti second full length album hous shadow donat earn privat show',\n",
       " 'phone rang septemb answer year later',\n",
       " 'olga kay subscrib want creat biggest circu youtub circu made',\n",
       " 'support site like buy ticket visit world coolest studio factori hang amaz creator art design',\n",
       " 'help new documentari william burrough reach audienc support slamdanc film festiv',\n",
       " 'get preorder copi cd also get access individu track remix',\n",
       " 'help us heat insur hf annex winter effici natur ga monitor heater realli cold',\n",
       " 'axematchcom drive chang help reinvent way music industri busi',\n",
       " 'seek fund life cast materi studio upgrad advertis make leap parttim fulltim oper',\n",
       " 'virgin whore chronicl time hot fat chick got voic',\n",
       " 'januari th publish book auction block oval offic poem written first day obama presid',\n",
       " 'interact stori explor decis woman made get would happen shed done thing differ',\n",
       " 'bear tri get teeter totter work neighbor beaver doesnt understand law graviti',\n",
       " 'leav world embark quest spread creativ handmad sketchbook journal highest calib',\n",
       " 'help us friendli syracus record label morn press artist album sever line cant wait get',\n",
       " 'french artist xavier roux inspir creat foot long sculptur poem written surrealist robert desno',\n",
       " 'groov duke collabor jess ewl toronto base independ film director know form mad collabor take stickboy',\n",
       " 'luz learn project commun project start mamaluz commit bring world music educ togeth',\n",
       " 'help us fund next beauti inspir track ep releas get copi offici come',\n",
       " 'band black dove look help fund sophomor album song studio produc line upnow need',\n",
       " 'bison oleand time machin arriv prototyp built help put time machin shelv nationwid',\n",
       " 'actress put greatest audit life later come realiz audit life saniti freedom',\n",
       " 'team phoenicia build rocket prototyp moon land part googl lunar x prize need fund flight test',\n",
       " 'canvasman tell stori man less concern expect live life fuel passion',\n",
       " 'eurocrim cinema doc violent stylish italian crime thriller current post filmmak intvw complet',\n",
       " 'relax yet challeng game take place aquarium fund need rest artmus asset game complet',\n",
       " 'peeessey close produc new lp pestil joy',\n",
       " 'anxiou workahol young woman move carefre friend slowli loos grip realiti result bloodi disast',\n",
       " 'jonathan scott guitar launch unusu project rais fund benefit music art program public school',\n",
       " 'antirov lpdigit download compil rock band titl karl rove memoir maximum cultur jam',\n",
       " 'inzinzac need rais fund first studio record cultur exchang musician franc',\n",
       " 'featur length documentari document birth growth explos punk rock narrat toni hawk',\n",
       " 'print first book webcom sorceri inept chainsmok sorcer gonna page graphic novel',\n",
       " 'bleachbang talk rockfrom heavi metal great promis upandcom band reach audienc goal',\n",
       " 'first webisod substanc salvat darklight drama stranger intertwin surreal realm putupon transcend',\n",
       " 'help independ filmmak promot work find audienc',\n",
       " 'wow collect compil book correspond discuss foundat collect import lgbt issu armenia',\n",
       " 'set releas first full length album follow emus select releas win ep want exist',\n",
       " 'excit new web video seri chef andrew lanier take audienc insid world modern cuisin cocktail',\n",
       " 'need help profession master press new waterlaso album wild weve recent finish record',\n",
       " 'car compani ask bail out jeremey dean doesnt want bail want fund futurama car',\n",
       " 'cartoonist stephani mcmillan illustr writer derrick jensen first children stori bear done mr johnson yarn',\n",
       " 'welcom futur chanc fund next absynth quintet record truli grassroot approach make music',\n",
       " 'life time verg make debut album readi take statu upandcom nyc band household name',\n",
       " 'driven probe incred person stori legendari ufc fighter jen pulver journey back cage may final bout',\n",
       " 'nashua high south sent four team student teacher gulf coast hurrican relief gear trip five februari',\n",
       " 'sun come documentari follow reloc world first environment refuge wwwsuncomeupcom',\n",
       " 'object make handmad blank doll pass onto artist world artist express work doll',\n",
       " 'immers storyrich vehicl introspect understand choic made other get invit backer parti',\n",
       " 'help poor colleg student aspir martial artist tri attend day train seminar kyoto japan',\n",
       " 'stealth foxx independ produc debut album soundfeel need help make dream realiti',\n",
       " 'journey bay area food movement follow farmer cook activist educ fight food justic commun',\n",
       " 'support releas first album fabric life contribut reward gift',\n",
       " 'get readi promot album im look forward share',\n",
       " 'unwoman fourth fulllength cd origin selfproduc work lush cello vocal theremin cello banjo electron theme love betray',\n",
       " 'slip stone film youth famili desir magic center around troubl teen discov mysteri object',\n",
       " 'make third fest happen get ticket music artist like sufjan daedelu phosphoresc circulatori system',\n",
       " 'origin comedi web seri ridicul adventur ell marci two codepend lo angel hipster becom produc',\n",
       " 'love laugh dont shi celeri tv new sketch comedi seri like saturday night live except actual funni',\n",
       " 'vastar nostalg rpg focus immers charact storytel classic gameplay make way hour entertain age',\n",
       " 'im build onlin app help track menstrual period women httpwwwflojugglercom',\n",
       " 'bodi pile two detect risk everyth includ catch psychot killer short film bite',\n",
       " 'whisker music would love make sophomor record winter pledg reward mp cd credit artwork concert',\n",
       " 'name wunmi plan go accraghanafeb record sophomor albumi would love support make dream album come true',\n",
       " 'commun art initi consist travel hous mission develop commun within divid nation',\n",
       " 'atomica project need support releas rd album entitl nonaffair',\n",
       " 'episod finish readi air need episod complet season episod pb turn pb wait us complet',\n",
       " 'recip nom easytous tool allow easili bookmark recip come across variou food blog site unobtrus popup',\n",
       " 'want make draw se asia send',\n",
       " 'hello tdmer ive make web comedi im middl season help get season',\n",
       " 'singl line concept five colleg student get lost hike trip one end dead suspicion becom contagi fatal',\n",
       " 'gentlemen south sandwich island charm board game sit nice intersect art logic literatur preorder',\n",
       " 'project full featur movi slate star heavi metal band leatherwolf film glen burni maryland',\n",
       " 'mad hatter alic wonderland tale overdos carnag mad terror featur film independ terrifi',\n",
       " 'help us take horror new level one night stand featurelength psychosexu thriller gorman bechard',\n",
       " 'rent entir build brooklyn ny use art galleri music showspac record studio place band practic',\n",
       " 'help launch world first somat natur histori archiv fun creativ approach rais biodivers awar',\n",
       " 'belov artist crafter design alik crap hound great resourc work art come pledger let publish',\n",
       " 'short comedi film three amigo meet styliz scope good bad ugli clint eastwood funni',\n",
       " 'want make imag anim',\n",
       " 'told live three taxi driver beij taxi richli textur film viscer captur era transit',\n",
       " 'twitter diari project get social network commun togeth part handpaint visual diari twitter phenomenon',\n",
       " 'snag first wolf interv releas droner ibreathefur jog one month preorder theyr gone',\n",
       " 'tri build second cabin place stay new farm ananda harvest',\n",
       " 'system dramat thriller explor futur machin cure diseas possibl wide accept practic',\n",
       " 'small band tri get start turn outit pretti hard need help',\n",
       " 'nyc resistor creativ technolog space brooklyn learn share make thing move great new locat wtih x space',\n",
       " 'ever seen birchart wll show planet time birth affect today u r uniqu',\n",
       " 'project nihon slightli subvers art film crosscultur collabor experi join us',\n",
       " 'help support ian first record embarrass youtub time donat made ian cover song choos',\n",
       " 'three shapeshift alien invad hatch world bodi earth danger lifeform women',\n",
       " 'everyth knew famili turn lie everyon knew truth except',\n",
       " 'sad bastard book club goe wood record doomyfolkylatini dirg make cd creat hand bound book accompani',\n",
       " 'band clark plan releas rpm record origin song folktal record',\n",
       " 'hello everyon im professor cc singersongwrit origin maryland thank much stop check project',\n",
       " 'rebfest first twitterbas film festiv march convert film sm exhibit site need organ llc',\n",
       " 'guid live life environment anim peopl friendli way stori life nyc rock publicist activist blogger',\n",
       " 'terribl spaceship band use multimedia creat narr concert tri finish second album zontar thing venu',\n",
       " 'spring make debut intern art scene next part art chicago need financi support',\n",
       " 'bugbabi short low budget film young coupl come term mutant cannibalist babi',\n",
       " 'brain seed user content driven weekli quiz allow player educ other issu passion seed learn win',\n",
       " 'promot art intarsia defray cost exot wood need creat hand made carousel hors wall hang print work',\n",
       " 'help metropoliton cut great new album record mix cd new song youll get special prize help us',\n",
       " 'lumi co creat print previous imposs use new technolog two young design want turn fashion world upsid',\n",
       " 'calmplex shadow locust put first full length solo album solar wind theori juli need help',\n",
       " 'see us marin make counterinsurg work helmand provinceth taliban stronghold afghanistan',\n",
       " 'deathless work anthropomorph fiction page word inspir work author stephen king dean koontz',\n",
       " 'surviv thrive peopl around world sexual abus famili member thrive today',\n",
       " 'project help get recent record materi mix master releas',\n",
       " 'book silicon valley startup orient toward engin join startup maxim financi advantag',\n",
       " 'ian final go record album he selfproduc selfrecord album need help pay artwork get disc made',\n",
       " 'musician carolina stori whiskey king coalit play show citi west coast',\n",
       " 'three student new york want make documentari travel across countri',\n",
       " 'got old bomb fill poetri take road poetri bomb global commun literaci outreach poetri bomb submit',\n",
       " 'atlanta rock band tranc arc embark second full length record project need help releas wild',\n",
       " 'somewhat comic adventur prickley pete zoop futur new pointnclick adventur game star prickley pete zoop',\n",
       " 'new cd work packag tweak might push budget',\n",
       " 'justin dicenzo first album japanes one passion food',\n",
       " 'zine instig art conspiraci audio collag reverber renaiss onlin game make art zing ether bohemia',\n",
       " 'victori associ new band sf form peopl band probabl dont know debut doubl asid',\n",
       " 'work ep song look forward record releas new music thank support',\n",
       " 'candl holder polish aluminum bronz aluminum hold taper one side tea light bronz hold taper',\n",
       " 'photograph j koon travel peru teach local captur imag surf document experi transform world view',\n",
       " 'work debut album want part cours there someth give us littl kickstart',\n",
       " 'meet talent songwrit perform work discuss craft songwrit well life artist',\n",
       " 'soar cohes collect rock song inspir fearless live fearless music',\n",
       " 'help us fund great local band show lowel citi peopl live realli deserv happen',\n",
       " 'portal project ask artist support work outsid tradit topdown structur art administr',\n",
       " 'hi gopher limitededit magazin customiz reader featur art literatur journal meticul product',\n",
       " 'timber rais money releas scrawl cowboy angel record donat met handsom reward',\n",
       " 'march sxsw host first showcas oldschool new orlean bounc straight hiphop parti music help send us austin',\n",
       " 'promis develop caitlin krisko broadcast band need safe transpor spread music nation',\n",
       " 'book stori photo sex realli messi awkward hilari pain true',\n",
       " 'pledg get copi upcom album',\n",
       " 'cubicid dark comedi novel former la time writer profession comedian kati love fund use promoteadvertis cubicid',\n",
       " 'book survey recent research medic properti cannabi particularli treatment cancer seriou ill',\n",
       " 'support research develop land walker prototyp disabl wheelchair user human right walk upright',\n",
       " 'held austin tx week sxsw datapop one top bit music event countri need help artist travel cost',\n",
       " 'aspir photojournalist seek dslr must love travel organ farm commun journal',\n",
       " 'san diegianmexican artist improvis studio space find inspir subway cafe nyc publish book',\n",
       " 'month ago azeri filmmak turkish poet main philosoph began collabor radic short film need help finish',\n",
       " 'bright bike diy kit make ride bike night safer scale project make ride safer',\n",
       " 'publish young adultteen fiction book answer question purpos stori teen orphan girl inner citi',\n",
       " 'nation underground film record live set favorit band post free onlin backer receiv unreleas materi',\n",
       " 'take train nyc cleveland bring digit camera new film direct gina telaroli wmeerkat media goddamn cobra',\n",
       " 'sgt dunbar hobo ban got accept showcas year sxsw festiv mile home van need help broke',\n",
       " 'fund releas word comic scienc fiction stori crossspeci exploit last survivor proud warrior race',\n",
       " 'chordial would like record new cd ton fanci solo bank account empti support capella help us sing',\n",
       " 'midnight hour orang counti ca need help final record debut record year plu youll get cool stuff',\n",
       " 'help fund develop come age drama head lo angel full blown cast session bring film full financ',\n",
       " 'hank time buddi movi four guy friend pull togeth help friend heal wife death build time machin',\n",
       " 'award show celebr comed perform art new york citi',\n",
       " 'san francisco nois pop musician seek fund recreat breath new life album hound love kate bush begin end',\n",
       " 'explor human journey delight human instrument expand human perspect flutewalk stori concert werner john',\n",
       " 'live profession wrestl event rais money muscular dystrophi research treatment seek support',\n",
       " 'film conservationist invent innov strategi allevi pressur human eleph conflict sri lanka',\n",
       " 'minneapoli favorit naughtybilli band courtney mcclean dirti curl lookin record sexposit ditti ep everyon',\n",
       " 'similo scifi love stori shortfilm set',\n",
       " 'busi make debut fulllength record curs marin need help finish record money problem yeah right',\n",
       " 'kokoromi offer rare indi game reward game download key three allaccess gdc pass kickstart gamma event san francisco',\n",
       " 'born two path cross comfort cowboy cook tast imag stori two artist three year unconvent live',\n",
       " 'pink hotel chicago artist chri hefner first featur film slate complet march',\n",
       " 'help finish short film mata hari lost head found bodi',\n",
       " 'leisur brooklyn base band want help press first ep vinyl short run kickstart edit',\n",
       " 'artist rule world remind time better live memori better spent peac creat prosper much cleaner color earth',\n",
       " 'help candler blog film review theori websit go sxsw austin tx bring news review fest',\n",
       " 'outpost sci fi action space adventur film remot distant militari outpost focu point alien invas',\n",
       " 'hear us roar literari newspap consist firstperson narr fiction nonfict along imag rooaarrrr',\n",
       " 'warn report strang phenomenon greater detroit metro complex ghost inch threat level rainbow catch inch',\n",
       " 'make debut intern art scene next part art chicago need help',\n",
       " 'balthrop alabama small town band hope go tour go austin tx sxsw new york need help make',\n",
       " 'wrote novel want tri fun way distribut book call collect andrew vs collect',\n",
       " 'eight women follow unconvent teach mother eve hope blossom person sensual success confid flower',\n",
       " 'launch vinyl record label focus make collect item artist full artist control',\n",
       " 'use crosscountri bike ride vehicl commun rwh advoc improv qualiti access global health',\n",
       " 'collect poem discov follow mother pass approxim total poem mother last written express',\n",
       " 'group friend love action movi love much came logic conclus make one',\n",
       " 'help tot friendli neighborhood potato rhymer mix master mash record releas rd tot album au didnt featur track',\n",
       " 'write nonfict book marcellu shale american energi independ reserv copi better',\n",
       " 'kyftp record first fulllength studio album homespun klickitat band camp kbcrecordscom anticip releas date april',\n",
       " 'ghost styliz comedi short rabbl rous ragamuffin yesteryear love transcen decad curfew',\n",
       " 'hello brit cavalri brooklyn ny record new music',\n",
       " 'reclaim freedom song th centuri rais awar ongo monster human traffick world today',\n",
       " 'indi develop boredom product xbox game japaneseinspir hugthem game show need fund anim environment model',\n",
       " 'dear mr watterson documentari film celebr explor art impact calvin hobb creat bill watterson',\n",
       " 'class art money addict consumpt advertis exploit connect artist buy advertis space panhandl right',\n",
       " 'laser cutter valuabl tool rapidli creat prototyp idea invent plan make open via commun hackerspac',\n",
       " 'favorit food vendor wheel hard track help us make easi find delici new version',\n",
       " 'build open sourc bussard fusion reactor aka polywel',\n",
       " 'want profil interview archiv everi amaz detroit band none talent lost forgotten appreci',\n",
       " 'deadlin tonight hr go see us sxsw diy diy stereoscop mobi dickinspir web seri invent new film grammar',\n",
       " 'relentless foundat form around singl belief entrepreneur chang world ask help us get platform built',\n",
       " 'e system new roleplay game system genr built use grassroot game design inspir best open game licens',\n",
       " 'mpl henri play rock music contest send austin tx south southwest band rais money trip',\n",
       " 'transmediaproject amass librari footag shot day obama elect featur documentari interact web histori',\n",
       " 'help us record new album save whale also address topic like dog farm babi histori vacat space',\n",
       " 'everi year poster maker embark pilgrimag flatstock austin tx mecca gigpost help fakedog join',\n",
       " 'weve got pilot episod need seri kickstart remain episod kickstart read revolut across tamil nadu india',\n",
       " 'help publish mom poem',\n",
       " 'lb make new record rais fundag pay lb mean lelia broussard fundag mean big buck',\n",
       " 'min short cover dark subject like resourc deplet genet genocid murder done need littl nudg go love',\n",
       " 'four film maker fresh school itch make first featur help us make dream come true',\n",
       " 'mad rook publish idea help young gener think intellig issu day support help us print first issu',\n",
       " 'classic musicfashionart promot classic music wider audienc event gigi burri fashion chri rini artist variou compos',\n",
       " 'sonicplay new technolog easili broadcast seamless televis experi via g g devic mobil phone new ipad',\n",
       " 'show challeng someth new everi week year learn new skill overcom fear perform feat',\n",
       " 'send us louisvil attend southeast bikebik confer inspir gain knowledg bicycl cooper',\n",
       " 'goal teeter totter creat film inspir anim short',\n",
       " 'documentari film hidden children explor children surviv holocaust person perspect survivor share stori',\n",
       " 'pleas help support jen one rais woman art show limit book releas independ film document journey',\n",
       " 'five car sitcom cultur divers group roommat train capoeira togeth becom unexpect unconvent famili',\n",
       " 'toonseum present exhibit origin art groundbreak anim classic akira need support make happen',\n",
       " 'help rais money record explor fractur relationship natur focus displac extinct animalsodessachencom',\n",
       " 'intim portrait famili iranian diaspora pytyk studi iranu conflict result two cultur inabl commun',\n",
       " 'bain psycholog thrillerhorror film produc epic dawn product vater entertain film wwwbainethemoviecom',\n",
       " 'short styliz film use mixtur tango rapier fightingto explor passion love anger easili one lead',\n",
       " 'collabor project design illustr patron prove power selfpublish nich market roleplay game',\n",
       " 'fire petal book children young adult bookstor utah sell book also serv commun write center',\n",
       " 'anim film old women lose home tough econom time hous magic surpris store find time',\n",
       " 'hill detect haunt past must enter mind machin discov motiv murder',\n",
       " 'word project odd obscur word illustr need publish',\n",
       " 'posit inspir documentari champion iceland sustain futur posit global role model',\n",
       " 'big tree independ diy pop band need diesel van convert run veget oil nation tour summer',\n",
       " 'cd record featur solo perform bach fifth sixth cello suit arrang archguitar',\n",
       " 'independ songwrit harpist timbr record new record new band win free trip cd releas show dinner band',\n",
       " 'portland oregon base high tech fabric diy workspac cooper',\n",
       " 'help fund excit new film festiv countri cimmfest march featur premier event like dj spooki wattstax',\n",
       " 'last two decad year old johnni barn dedic life make world happier place uniqu way',\n",
       " 'help develop softwar power game human vs zombi locat univers world',\n",
       " 'jame kochalka pixeljam make video game call glorkian warrior',\n",
       " 'help us make video never one popular song song wear pant lead singl heart upcom album autumn',\n",
       " 'brought summer us newest cd celtic harpist sarah mari mullen explor music ireland th th centuri',\n",
       " 'short film explor concept manifest power mind',\n",
       " 'acclaim songwrit songaday blogger need fund record actual album use actual equip whoa',\n",
       " 'peopl hole music video concept written catherin feeni featur zombi film mt pleasant cemeteri seattl wa',\n",
       " 'perform two contemporari operetta relev st centuri america without outdat tradit th centuri germani',\n",
       " 'week aficionado head austin tx play sxsw texa realli far away broke',\n",
       " 'hi found band berlin love help come amerika play new york citi httpwwwmyspacecombudzillu',\n",
       " 'alphons stori eight live intersect good ill follow attempt abort',\n",
       " 'cello meet rich world tango spanish cant jondo romanian folk irish ballad jewish cantor pleas support debut cd folkfir',\n",
       " 'found love unlik place far would go keep plain face fantast anim short made backlit cutout',\n",
       " 'videogam gener exactli urban electron act gener make person video game design',\n",
       " 'seed fund nonprofit learn intercultur commun creat music video deaf hard hear',\n",
       " 'short film examin barrier commun idiosyncrasi within ambiti american cultur',\n",
       " 'name one track album distribut itun amazon onlin music store',\n",
       " 'finish product porkchop featurelength summer camp slasher film set need help make dvd',\n",
       " 'libertarian novelist social studi teacher ohio need travel new hampshir research free state project spring break',\n",
       " 'ive written comic memoir adventur american yoga cultur come august want train yoga teacher',\n",
       " 'launch larg balloon oregon photograph earth space',\n",
       " 'get dollar inch detroit see next excit instal drum roll ghost inch xo loveland micro real estat',\n",
       " 'zombi convers comed web seri two guy surviv zombi apocalyps fight insan',\n",
       " 'sustain virginia flower farm creat nationwid csa offer folk chanc buy discount share flower farm',\n",
       " 'coffe adventur happen everywher book project document relationship peopl coffe connect peep peep',\n",
       " 'fourplay four true tale sexual intimaci san francisco transvestit sexwork face challeng assign',\n",
       " 'debut album feat major artist known work year ju e yukmouth famou got',\n",
       " 'poetic handbook pagan magician cover topic asson conson composit perform incant',\n",
       " 'beauti brazilian men frolic beach togeth oh there plot queertycom',\n",
       " 'send musician papua new guinea help preserv rare languag world lyric song',\n",
       " 'sharewiththreeorg websit design support women decis disclos abort experi three peopl',\n",
       " 'usher greatest band gener stori final told',\n",
       " 'canva great medium bring artist vision life help us suppli everi singl one two piec prestretch canva',\n",
       " 'journey sci fi webseri prodominatli women supernatur power travel time alter futur avoid extinct',\n",
       " 'stori follow vasquez femal offic return home husband daughter front line afghanistanwith secret min',\n",
       " 'folkrock singersongwrit charli wolf work first fulllength album need support featur amaz song',\n",
       " 'taxdeduct donat complic inc help us realiz part part love best independ featur shoot nyc',\n",
       " 'project death race let fight brutal automot arena battl fulli custom scale toy car ie matchbox',\n",
       " 'codex war e dd supplement cover run war coloni hostil nativ tribe releas free pdf download',\n",
       " 'glow twelv hour hyperintens free event innov participatori art santa monica beach septemb',\n",
       " 'aposoul creat hip hop album dedic peac moment rais awar inner peac express world',\n",
       " 'tess transfer heat effici quieter cool system need mainten also convert excess heat electr',\n",
       " 'im honor invit give talk year stc summit cant wait meet new crowd need help travel cost',\n",
       " 'texa nativ dylan sneed record new fulllength album call texodu remot cabin south carolina',\n",
       " 'six poet one printmak poem everyon pockets postcards hangitonthewalls',\n",
       " 'plan record origin song live energet possibl releas download shini plastic circl form',\n",
       " 'fund creat set onlin tool allow student creat virtual histor reenact use twitter',\n",
       " 'happen indi game studio join forc hiphop crew free onlin sidescrol funkyfresh beat awesom rap alien',\n",
       " 'goal reinforc financi literaci concept taught school plant seed busi ownership among middl school student',\n",
       " 'pledg project good dont even click life may depend abil follow direct warn',\n",
       " 'three finalist fierc compet intens swim competit prize citizenship desir countri still need',\n",
       " 'delight comedi error follow misfortun surround young man offer woman role film doesnt exist',\n",
       " 'meet denni help make movi promis eat sleep',\n",
       " 'film black comedi set world ralli road race brother sister team brought high school record',\n",
       " 'preorder sign number limitededit lp dvd handdesign artwork music art j wise',\n",
       " 'made awesom littl spaceman lamp want start product line everyon one',\n",
       " 'name john martin get homeless make public art greensboro nc new homeless day shelter',\n",
       " 'group nyc kid excit futur silicon alley look excit other like us visit hacknyorg info',\n",
       " 'american bagpip maker need qualiti digit video record document trip firstev celtic festiv havana cuba',\n",
       " 'help bryce make profession debut record franz schubert famou song cycl share beauti music world',\n",
       " 'way world end bang whimper',\n",
       " 'short film written american sign languag beyond essay two strong deaf women cast crew compos entir women',\n",
       " 'pittsburgh base singersongwrit joy ike current work nd fulllength album rumor need help make happen',\n",
       " 'eleph parad collabor art event aim rais awar fund endang asian eleph plight face',\n",
       " 'fuzz phantom creat month multimedia onlin world fan aim build last connect',\n",
       " 'elbow first novel project enabl commiss cover artist print copi book backer',\n",
       " 'blanklab mobil studio construct ship contain bring design commun togeth foster posit chang',\n",
       " 'frankencar diy electr car project build advanc ev goe michrg recharg min well show',\n",
       " 'song base photo citi project space imag music common languag art',\n",
       " 'project enhanc virtual harlem exist virtual world second life represent harlem ny',\n",
       " 'creat short film bring life cartoonist jule feiffer icon modern dancer live dancer',\n",
       " 'formid artist origin song concept cd die breed',\n",
       " 'king yorktown comedydrama director darren marshal brother move small town new jersey',\n",
       " 'gent pseudodocumentari bank heir throw commun neverend art parti gradual shift labor camp',\n",
       " 'playwright songwritersketch comic comedian short film maker chri churchil make first featur length film itll good weird',\n",
       " 'use array weapon collect build defend survivor make way base zombi hord game iphon',\n",
       " 'get thailand pave way crew saint slave siam documentari human traffick film summer',\n",
       " 'heat system would let us surviv winter month carri acclaim program',\n",
       " 'short comic page squar nontradit format squid robot take place futur everyon get copi',\n",
       " 'logo set air music video need budget produc help',\n",
       " 'help creat interact web map real citi bit style video game tri bitnyccom',\n",
       " 'project could benefit mani peopl help strang gather achiev goal record debut lp thank',\n",
       " 'help karim muasher bring new solo show combin nintendo graphic theoret physic stage',\n",
       " 'im record st album jewish rocka new breed entertain spirit jewish music new gener pleas help support project',\n",
       " 'tantrum muse album heart twohead sperm remast broken circl would like make vinyl press',\n",
       " 'help gener bye bye bit fantast french indi rock band pari rock us get crazi stuff part pure adventur',\n",
       " 'short film explor role revers dynam adult children',\n",
       " 'anthoni fiumano embark biggest project date want part help fund new record get great incent',\n",
       " 'want cover enorm concret grain elev equal enorm art land use agricultur food eat',\n",
       " 'jessica blinkhorn artist live larg roll hard wont let declin mobil stop creat need get toronto',\n",
       " 'la inspector rebecca fischer moral duti challeng mask assail take citi gang drug plagu hand',\n",
       " 'team reaper go nation competit battl lb robot robot r sever prize need overhaul',\n",
       " 'patch tell stori young freshman student transfer prestigi boy board school riddl bulli',\n",
       " 'thing stand year old dream climb foot mt rainier make other might follow',\n",
       " 'help jenni omnichord press new album vinyl packag doubl crosscanada board game',\n",
       " 'rang graphic novel follow two old men one young boy quest find beast old west',\n",
       " 'becom apart someth great develop singer vanessa moss kickstart believ team develop raw talent',\n",
       " 'aspir help shoot three ambiti singleshot live perform music video may shall see',\n",
       " 'first episod web seri gamer accident ask girlfriend move',\n",
       " 'get dollar inch detroit onlin inchvest project new grant program make cool stuff happen',\n",
       " 'mbird embark first ever us tour hit radio station small venu throughout countri bring great music',\n",
       " 'actionadventur game set abandon mine coloni game experienc via sound',\n",
       " 'film local handcraft beer brewer hope promot culinari passion well uniqu filmwork',\n",
       " 'need help finish first three episod fantast web seri dude memori reenact call rememb',\n",
       " 'may june akabella tour western unit state perform teach learn along way',\n",
       " 'want record releas countrypop album year long dream ive write best song best writer nashvil',\n",
       " 'asia mei singersongwrit uniqu genrebreak style fundrais record new altern rock releas',\n",
       " 'help hilobrowcom serial ballad cocki fox brilliant novelinprogress jame parker dissolut fox adventur',\n",
       " 'secret histori ask play benefit concert dad hometown hull june th th cant without support',\n",
       " 'record origin song nashvil hope major artist label use also use person market local radio airplay',\n",
       " 'men boy austinbas writercomposerfilmmak steven cheslikdemey first narr film',\n",
       " 'night racer minimalist electron pop album intimaci loss forgiv dark love redempt',\n",
       " 'collabor musician graham hill roman ruin artist hunter mack aspir produc vinyl record art print',\n",
       " 'hi interwebb record new jam releas spring need',\n",
       " 'hour featur film shot seattl wa aprilmay',\n",
       " 'face fix introspect subtli power existenti stori longstand famili rift depress young love',\n",
       " 'passion project im ask help fund short film abstract page televis pilot tri get exposur',\n",
       " 'ultralimit edit number pictur disc vinyl one lucki pledg get song written record platinum record',\n",
       " 'collect donat help fund second releas record releas later year',\n",
       " 'littl candi heart stori burgeon love affair embroil suspicion deceit ultim lead murder',\n",
       " 'spend spring summer tour support new ep hollow bone grow fan base',\n",
       " 'felic johnson ordinari work girl daydream broadway star felic fantasi take turn wors',\n",
       " 'hi ho silver oh go west coast tour well start santa barbara spread tune way seattl back',\n",
       " 'join author joe nassis collabor process write next book urban fantasi entitl mirror road',\n",
       " 'side fenc compel doc explor highstak struggl anim conserv human poverti africa',\n",
       " 'altern rock band rais money financ full length cd',\n",
       " 'combin pop art sweet treat rollergirl get novelti latest exhibit cori oberndorf',\n",
       " 'limit edit print new track ra kass project vinyl cd press',\n",
       " 'help get gear need keep safe roundtheworld',\n",
       " 'viral lingust notebook featur heather kai smith draw honeybear music',\n",
       " 'bodi deterior termin ill young woman experi moment spiritu joy euphor fantasi help bring screen',\n",
       " 'onlin realiti seri polit spread commun technolog impact democrat chang global',\n",
       " 'team made two featur film cant wait share world near complet hilari hope love',\n",
       " 'contribut minuti third issu worth come end april',\n",
       " 'box lesson make new album call possibl seek help final new album releas fall',\n",
       " 'young southern born geniu control father self righteou cleric pack bag navet head new york new begin',\n",
       " 'paint satellit project mark physic presenc digit space largescal paint rooftop seen outer space',\n",
       " 'vision love short film two loung singer perform final show togeth music love barroom brawl ensu',\n",
       " 'use origin mold batmobil rebuild exact replica parad event',\n",
       " 'film tell stori three teenag boy banish polygam commun warren jeff sect selfproclaim prophet',\n",
       " 'send maker sonicsg requiem team new york screen espn intern film press help grassroot project',\n",
       " 'twanger follow cassett mesotwangi twanger cleanedup remix remast given collector edit artwork',\n",
       " 'im attempt rais money creat next record name cd dormant creatur join hand creat album',\n",
       " 'new music video classic rock band fusbi',\n",
       " 'experiment art film project take place japan spring brooklynbas creativ sibl duo',\n",
       " 'event life al hawk documentari film new england countri music told stori main record label founder',\n",
       " 'film tad quirki dissect oliv titl dabbl surreal charact driven httpdissectionofanolivecom',\n",
       " 'audio ergo sum music music festiv celebr extraordinari moment everi day live new york citi',\n",
       " 'indi pop band portland look help record manufactur promot first album',\n",
       " 'acoust musician circu impresario john highkin ace guitarist steve jirak record vintag countri swing standard first cd',\n",
       " 'stumparump record tini indi record label releas vinyl record rel unknown need help keep small dream aliv',\n",
       " 'appl ipad platform capabl innov form music express jp mix match midi pad mxnm take advantag',\n",
       " 'uga accident advanc intern final collegi cappella new york citi cant get without help',\n",
       " 'surrealist swing band microscop septet fete master cd arrang monk tune peculiar style',\n",
       " 'pay forward help tell underreport stori guarani aquif',\n",
       " 'conclus stunningli poignant web seri fertil aid american dream',\n",
       " 'short stori literari woman fund ill make freeli avail everyon onlin',\n",
       " 'eat heart live burlesqu cook show sex power woman beef jerki',\n",
       " 'tour us past year nearli day road determin releas next album help',\n",
       " 'build block life bad day flash game challeng rais tini cube balanc diet red blue green',\n",
       " 'power employ new orlean youth perform peer educ role model',\n",
       " 'mo old heart diseas mo surgeri stoke yr fear heart transplant beat cancer x still tell tale',\n",
       " 'chess movi inthework featur documentari goe insid best junior high chess team nation brooklyn new york',\n",
       " 'among star investig thriller pose reallif question danger new age organ cult',\n",
       " 'first look like terrorist act turn cold war relic come back haunt present global implic pilot full seri',\n",
       " 'bob forget medic bob dark fantasi begin intrud upon subvert realiti bob bad day',\n",
       " 'dinowax record compani main readi releas new record help prize includ cd bside tour pass',\n",
       " 'stori korean famili whose valu dysfunct shape live son daughter',\n",
       " 'true love suck romeo juliet adapt set music scene emo girl fall love indi boy',\n",
       " 'take incred odd believ abil overcom thing life worth fight destini one',\n",
       " 'launch new doc web seri inspir young adult take creativ action everyday live art meet social chang exampl join us',\n",
       " 'help support profession high school student team collabor short film film apprenticeship newton',\n",
       " 'peripher citi push limit viewership past notion contemporari entertain remain glib away palpabl social awar',\n",
       " 'rock star school teacher printer cabl co employe guidanc counselor restaur employe band rock',\n",
       " 'posttv new websit live event seri provid artist opportun exhibit produc experiment video perform',\n",
       " 'buy land fun squar inch detroit',\n",
       " 'heartbeat need assist record releas debut full length record slow wave album releas vinyl',\n",
       " 'made film quest reunit rock band kink need help show film festiv',\n",
       " 'easter island project final goe island due pregnanc arttravel date chang help fund new itinerari',\n",
       " 'finish first record need send becom cd',\n",
       " 'contemporan ny base entir youthrun new music ensembl intent perform music time need fund rent venu',\n",
       " 'fund site night rock roll fearless journey dark heart rock roll music road unit state america',\n",
       " 'small press make small print reach whole differ audienc paint expens larg monotyp',\n",
       " 'panacea reach fan ensur proper limit vinyl press new album album deserv ear',\n",
       " 'anim music comedi champion concern william young publishinghous employe risk lose love quest fulfil ambit',\n",
       " 'chanc life make impact labrador retriev art larg piec help save lab day',\n",
       " 'rais money start film',\n",
       " 'littl mermaid horrorcomedi featur follow pound salmon walk onto street port townsend look love',\n",
       " 'write illustr children book call clawdett cat fund donat virginia avenu project',\n",
       " 'p modern project dedic creat revis improv version modern srd use pathfind rpg guid',\n",
       " 'dollymentari follow woman extrem obsess dolli parton layer ident person unfold vulner humor surfac',\n",
       " 'hey patient open presal debut record victor fool secur copi pledg',\n",
       " 'make world largest rubik cube mosaic use cube part art competit cube donat school grand rapid',\n",
       " 'happen independ band let listen decid fate next full length album music video budget let find',\n",
       " 'six peopl one citi futur land opportun captur tumultu reconstruct new orlean',\n",
       " 'piec new orlean gypsi folk circu rock band mobil futur',\n",
       " 'live behindthestag paint box greet card artist famili collabor journey express paint togeth live',\n",
       " 'daniel young teacher who explor length go one young student',\n",
       " 'pandemonia chronicl dawn middl grade novel boy help selfpublish',\n",
       " 'one anticip film come arizona billi syko action film break new ground local phoenix film scene',\n",
       " 'video reimagin product sandi becker christma carol featur origin puppet sandi becker',\n",
       " 'want creat publish collect fiction piec supernatur dark element collect call darken room',\n",
       " 'help us get bu run veggi oil set green bu tour spread awar consciou live',\n",
       " 'use peertop lend fund develop game help us fund game trailer get name credit',\n",
       " 'filmmak locat worldwid shot second footag creat uniqu documentari need help bring world',\n",
       " 'want turn new singl music video great locat model profession video product',\n",
       " 'greet heather tobinanthoni spirito seek rais fund record first cd river hold poem',\n",
       " 'imagin pari je taim scene second long base craigslist post',\n",
       " 'summer end tshirt project aim fund creation varieti silk screen tshirt promot radic youth empower',\n",
       " 'hudson river pageant educ ecolog art project engag youth commun restor hudson river nativ habitat',\n",
       " 'ever want watch lone theater critic suffer help us make dark comedi',\n",
       " 'realli want releas new album full forc lack fund make dream happen hear sleepgoodbandcampcom',\n",
       " 'visual aural wonder kid age laugh search danc stori inspir deed makeawish foundat',\n",
       " 'help broke artist make gencon indi sell artwork main expens booth cost target amount present',\n",
       " 'part unoffici superhero web seri combin live action charact anim world creat live comic book',\n",
       " 'color obsess craze crazi look band ever matter replac',\n",
       " 'promot innov action commun near hear good dirt cant help spread around climat seri next',\n",
       " 'osloom short open sourc loom project creat open sourc electromechan threadcontrol loom comput control',\n",
       " 'hi name dan stockton im aspir musician chicagoland area look help record first demo ep',\n",
       " 'rocki road stori young boy name robbi adventur get girl next door chase ice cream truck',\n",
       " 'daili bread document someth essenti daili life find make food',\n",
       " 'fund final step need merg commun magazin section site allow user creat submit articl',\n",
       " 'fair trade film festiv celebr world fair trade day goal promot awar educ fair trade busi practic',\n",
       " 'thiev broke nashvil record studio finish album stole bunch gear new album song surviv',\n",
       " 'think monti python think kid hall think vancouv comedi disord guarante destroy imag canadian',\n",
       " 'look backer upcom album beauti electrocut cut edg album blow away creativ origon',\n",
       " 'divers trio resid pari month june continu mission expand jazz demograph throughout europ',\n",
       " 'year colleg student actual graduat book provid much need inform teen new colleg student',\n",
       " 'kind music doesnt yet exist jazz classic littl hiphop help allow record composit',\n",
       " 'mile davi coarrang music produc sung harvard inventor obama convent deleg singer tour luxuri allelectr car',\n",
       " 'iyaded rwandan singer songwrit base new york need u help rais money press fresh eclect record',\n",
       " 'celebr new york poetri cultur food festiv poetri parti highlight laser project poem onto new york citi build',\n",
       " 'beach bum live life petti crime see friendship test littl dog fall lap undo live know',\n",
       " 'nationallydistribut countri music internet station seek work area purchas tradit countri music librari cd',\n",
       " 'first ep ever releas help want share mani peopl music write much passion',\n",
       " 'seeker paranorm weekli paranorm investig show show paranorm investig',\n",
       " 'got bad bike accid im sell draw help pay medic bill x draw whatev want',\n",
       " 'kind monitor new song dizzi dreami dark sexi crew readi make eyepop music video masterpiec fund essenti',\n",
       " 'art embodi human capac empathi monument paint grass turn yellow juli',\n",
       " 'strawberri shake dark comedi produc six student california state northridg',\n",
       " 'time stop cut corner right im get band togeth finish album that year overdu play live show',\n",
       " 'meredith maladi highschool flint michigan run away home pursu murder rat man nd person delici gooey weird',\n",
       " 'short documentari film bring awar endang languag preserv histori highlight whistl languag canari island',\n",
       " 'weve work hard rais portion money need record debut album produc j robbin need help',\n",
       " 'welcom gentl water submit festiv circuit start april goal reach help us enter festiv',\n",
       " 'want releas cd cast record surviv apocalyps burn opera pleas join experi collabor cultur',\n",
       " 'come porch give got step street river danc your invit make possibl stl newest parad',\n",
       " 'allig bite invit peopl open wide possibl via onlin workshop doabl minut long tri sampl',\n",
       " 'booti trove new brass band new orlean invit caen franc perform record expand music',\n",
       " 'emilio modern gypsi new studio cd effort amaz musician legendari produc part amaz experi receiv sign cd',\n",
       " 'american makeov explor new urban provid altern sprawl conveni remedi america daunt problem',\n",
       " 'anim dark comedi video highlight stephen colbert super herolik figur within corrupt sinist world manipul media',\n",
       " 'travel uganda give away bicycl fiftytwo bicycl orphan children ride us africa',\n",
       " 'independ collabor web video collect base book name',\n",
       " 'stori music produc look next big star els fail forc find voic insid',\n",
       " 'young coupl move isol countri town hope new begin live instead drawn toward dark unforeseen end',\n",
       " 'becom part get olli cyclop monster made',\n",
       " 'true stori find what import star brain damag sailboat dog love sex zen master bahamian snake new kind poetri',\n",
       " 'finit number tangibl step dream',\n",
       " 'shusho crazi funk pop rock band us look bring fatcamp new album life love particip',\n",
       " 'spread joy wonder beauti collegi male sing new frontier',\n",
       " 'children lullabi cd fill origin music tradit lullabi around world new bedtim stori sooth calm sound',\n",
       " 'documentari summer garden commun local food exchang integr old new beauti function growth sustain',\n",
       " 'happi old magazin bunch feather help studio creation come aliv take part creativ process',\n",
       " 'mani peopl world pass everi day without slightest interest want chang',\n",
       " 'mowz trip hop band heavi spaghetti western influenc record first debut album anim short need help',\n",
       " 'poughkeepsi indierock abel need help record new album may awesom new song awesom peopl',\n",
       " 'director cut stori exfilm student decid she go make ambiti insan movi world ever seen',\n",
       " 'request fund creation open sourc wildlif track collar develop protect last lion live kenya',\n",
       " 'help finish independ featur filmwritten direct produc navajo filmmak navajo cast see teaser trailer',\n",
       " 'lar master thesi film short period drama set east berlin watch pitch video find film',\n",
       " 'truli love stori work hard make realiti peopl support help get voic heard',\n",
       " 'musician music new kind organ help fund music discoveri startup late chang music ecosystem',\n",
       " 'rosario dawson love contribut chicago stillthriv zine commun revolv around rosario dawson love heaven',\n",
       " 'featur health island real estat phantogram wood sumer camp famili portrait pill wonder julian lynch memoryhous etern summer',\n",
       " 'nearli five year chicago cultur underground quennect galleri transit diy art space legitim venu',\n",
       " 'first album friend weakend practic finish need support get print hand make pledgepreord may',\n",
       " 'romanc record make music sixpiec americanafolk phenom whiskey devil chaplain make music make togeth',\n",
       " 'nyc high school comingofag tale unparallel journey eight spontan eclect person via prism music videographi',\n",
       " 'freedom creat book support reader access full creativ potenti unleash wave creativ world',\n",
       " 'featurelength documentari massiv acclaim dismal commerci failur endur legaci pop music greatest cult band big star',\n",
       " 'stop motion anim special stuffi oldfashion tree answer letter ador fan',\n",
       " 'rais fund creat multimedia artist book experi everglad book hous paint write photo audio',\n",
       " 'help us bring high energi electropunk show citi reward rang cd ticket tour scrapbook privat concert',\n",
       " 'stori simpl teach music youtub free guitar crush car need new one continu reckless abandon cue',\n",
       " 'adult room hybrid documentari explor relationship director blubaugh teen closet man twice age',\n",
       " 'pantri applic mobil devic inventori current pantri home',\n",
       " ...]"
      ]
     },
     "execution_count": 23,
     "metadata": {},
     "output_type": "execute_result"
    }
   ],
   "source": [
    "corpus"
   ]
  },
  {
   "cell_type": "code",
   "execution_count": null,
   "metadata": {
    "collapsed": true
   },
   "outputs": [],
   "source": [
    "thefile = open('test.txt', 'w')\n",
    "for item in corpus:\n",
    "  thefile.write(\"%s\\n\" % item)"
   ]
  },
  {
   "cell_type": "code",
   "execution_count": 25,
   "metadata": {
    "collapsed": true
   },
   "outputs": [],
   "source": [
    "from sklearn.feature_extraction.text import CountVectorizer\n",
    "cv = CountVectorizer(max_features = 1500)\n",
    "X = cv.fit_transform(corpus).toarray()\n",
    "y = x2.iloc[:, 6].values"
   ]
  },
  {
   "cell_type": "code",
   "execution_count": 26,
   "metadata": {},
   "outputs": [
    {
     "data": {
      "text/plain": [
       "array([[0, 0, 0, ..., 0, 0, 0],\n",
       "       [0, 0, 0, ..., 0, 0, 0],\n",
       "       [0, 0, 0, ..., 0, 0, 0],\n",
       "       ..., \n",
       "       [0, 0, 0, ..., 0, 0, 0],\n",
       "       [0, 0, 0, ..., 0, 0, 0],\n",
       "       [0, 0, 0, ..., 0, 0, 0]], dtype=int64)"
      ]
     },
     "execution_count": 26,
     "metadata": {},
     "output_type": "execute_result"
    }
   ],
   "source": [
    "X"
   ]
  },
  {
   "cell_type": "code",
   "execution_count": 27,
   "metadata": {},
   "outputs": [
    {
     "data": {
      "text/plain": [
       "array([1, 0, 0, ..., 1, 0, 0])"
      ]
     },
     "execution_count": 27,
     "metadata": {},
     "output_type": "execute_result"
    }
   ],
   "source": [
    "y"
   ]
  },
  {
   "cell_type": "code",
   "execution_count": null,
   "metadata": {
    "collapsed": true
   },
   "outputs": [],
   "source": [
    "# Splitting the dataset into the Training set and Test set\n",
    "from sklearn.cross_validation import train_test_split\n",
    "X_train, X_test, y_train, y_test = train_test_split(X, y, test_size = 0.20, random_state = 0)"
   ]
  },
  {
   "cell_type": "code",
   "execution_count": null,
   "metadata": {
    "collapsed": true
   },
   "outputs": [],
   "source": [
    "# Fitting XGBoost to the Training set\n",
    "from xgboost import XGBClassifier\n",
    "classifier = XGBClassifier()\n",
    "classifier.fit(X_train, y_train)\n",
    "\n",
    "# Predicting the Test set results\n",
    "y_pred = classifier.predict(X_test)\n",
    "\n",
    "# Making the Confusion Matrix\n",
    "from sklearn.metrics import confusion_matrix\n",
    "cm = confusion_matrix(y_test, y_pred)"
   ]
  },
  {
   "cell_type": "code",
   "execution_count": null,
   "metadata": {
    "collapsed": true
   },
   "outputs": [],
   "source": [
    "cm"
   ]
  },
  {
   "cell_type": "code",
   "execution_count": null,
   "metadata": {
    "collapsed": true
   },
   "outputs": [],
   "source": [
    "import pickle\n",
    "pickle.dump(classifier, open(\"pima.pickle.dat\", \"wb\"))"
   ]
  },
  {
   "cell_type": "code",
   "execution_count": 6,
   "metadata": {},
   "outputs": [
    {
     "data": {
      "text/html": [
       "<div>\n",
       "<style>\n",
       "    .dataframe thead tr:only-child th {\n",
       "        text-align: right;\n",
       "    }\n",
       "\n",
       "    .dataframe thead th {\n",
       "        text-align: left;\n",
       "    }\n",
       "\n",
       "    .dataframe tbody tr th {\n",
       "        vertical-align: top;\n",
       "    }\n",
       "</style>\n",
       "<table border=\"1\" class=\"dataframe\">\n",
       "  <thead>\n",
       "    <tr style=\"text-align: right;\">\n",
       "      <th></th>\n",
       "      <th>project_id</th>\n",
       "      <th>desc</th>\n",
       "      <th>goal</th>\n",
       "      <th>disable_communication</th>\n",
       "      <th>country</th>\n",
       "      <th>currency</th>\n",
       "    </tr>\n",
       "  </thead>\n",
       "  <tbody>\n",
       "    <tr>\n",
       "      <th>0</th>\n",
       "      <td>kkst917493670</td>\n",
       "      <td>My first film, of many to come. Trying to purs...</td>\n",
       "      <td>7000.0</td>\n",
       "      <td>False</td>\n",
       "      <td>US</td>\n",
       "      <td>USD</td>\n",
       "    </tr>\n",
       "    <tr>\n",
       "      <th>1</th>\n",
       "      <td>kkst1664901914</td>\n",
       "      <td>A young man that has earned his master's in sc...</td>\n",
       "      <td>35000.0</td>\n",
       "      <td>False</td>\n",
       "      <td>US</td>\n",
       "      <td>USD</td>\n",
       "    </tr>\n",
       "    <tr>\n",
       "      <th>2</th>\n",
       "      <td>kkst925125077</td>\n",
       "      <td>Film about a high school constructed for negro...</td>\n",
       "      <td>49500.0</td>\n",
       "      <td>False</td>\n",
       "      <td>US</td>\n",
       "      <td>USD</td>\n",
       "    </tr>\n",
       "    <tr>\n",
       "      <th>3</th>\n",
       "      <td>kkst1427645275</td>\n",
       "      <td>The acclaimed series about a group of transgen...</td>\n",
       "      <td>40000.0</td>\n",
       "      <td>False</td>\n",
       "      <td>US</td>\n",
       "      <td>USD</td>\n",
       "    </tr>\n",
       "    <tr>\n",
       "      <th>4</th>\n",
       "      <td>kkst1714249266</td>\n",
       "      <td>Blackdom's history offers  a new narrative tha...</td>\n",
       "      <td>20000.0</td>\n",
       "      <td>False</td>\n",
       "      <td>US</td>\n",
       "      <td>USD</td>\n",
       "    </tr>\n",
       "  </tbody>\n",
       "</table>\n",
       "</div>"
      ],
      "text/plain": [
       "       project_id                                               desc     goal  \\\n",
       "0   kkst917493670  My first film, of many to come. Trying to purs...   7000.0   \n",
       "1  kkst1664901914  A young man that has earned his master's in sc...  35000.0   \n",
       "2   kkst925125077  Film about a high school constructed for negro...  49500.0   \n",
       "3  kkst1427645275  The acclaimed series about a group of transgen...  40000.0   \n",
       "4  kkst1714249266  Blackdom's history offers  a new narrative tha...  20000.0   \n",
       "\n",
       "   disable_communication country currency  \n",
       "0                  False      US      USD  \n",
       "1                  False      US      USD  \n",
       "2                  False      US      USD  \n",
       "3                  False      US      USD  \n",
       "4                  False      US      USD  "
      ]
     },
     "execution_count": 6,
     "metadata": {},
     "output_type": "execute_result"
    }
   ],
   "source": [
    "test = pd.read_csv('test.csv')\n",
    "list = ['name' ,'keywords' , 'deadline' , 'state_changed_at' , 'created_at' , 'launched_at']\n",
    "test = test.drop(list,axis = 1 )\n",
    "test.head()"
   ]
  },
  {
   "cell_type": "code",
   "execution_count": 7,
   "metadata": {},
   "outputs": [
    {
     "data": {
      "text/plain": [
       "(63465, 6)"
      ]
     },
     "execution_count": 7,
     "metadata": {},
     "output_type": "execute_result"
    }
   ],
   "source": [
    "test.shape"
   ]
  },
  {
   "cell_type": "code",
   "execution_count": 8,
   "metadata": {},
   "outputs": [
    {
     "name": "stdout",
     "output_type": "stream",
     "text": [
      "[nltk_data] Downloading package stopwords to /home/anmol/nltk_data...\n",
      "[nltk_data]   Package stopwords is already up-to-date!\n"
     ]
    }
   ],
   "source": [
    "import nltk\n",
    "nltk.download('stopwords')\n",
    "import re\n",
    "from nltk.corpus import stopwords\n",
    "from nltk.stem.porter import PorterStemmer\n",
    "corpus = []\n",
    "for i in range(0,63465):\n",
    "    review = re.sub('[^a-zA-Z]', ' ', str(test['desc'][i]))\n",
    "    review = review.lower()\n",
    "    review = review.split()\n",
    "    ps = PorterStemmer()\n",
    "    review = [ps.stem(word) for word in review if not word in set(stopwords.words('english'))]\n",
    "    review = ' '.join(review)\n",
    "    corpus.append(review)\n"
   ]
  },
  {
   "cell_type": "code",
   "execution_count": 9,
   "metadata": {},
   "outputs": [
    {
     "data": {
      "text/plain": [
       "63465"
      ]
     },
     "execution_count": 9,
     "metadata": {},
     "output_type": "execute_result"
    }
   ],
   "source": [
    "len(corpus)"
   ]
  },
  {
   "cell_type": "code",
   "execution_count": 10,
   "metadata": {
    "collapsed": true
   },
   "outputs": [],
   "source": [
    "thefile = open('test1.txt', 'w')\n",
    "for item in corpus:\n",
    "  thefile.write(\"%s\\n\" % item)"
   ]
  },
  {
   "cell_type": "code",
   "execution_count": null,
   "metadata": {
    "collapsed": true
   },
   "outputs": [],
   "source": [
    "# Backup\n",
    "import pickle\n",
    "classifier = pickle.load(open(\"pima.pickle.dat\", \"rb\"))"
   ]
  },
  {
   "cell_type": "code",
   "execution_count": 5,
   "metadata": {},
   "outputs": [
    {
     "data": {
      "text/plain": [
       "0"
      ]
     },
     "execution_count": 5,
     "metadata": {},
     "output_type": "execute_result"
    }
   ],
   "source": [
    "# Backup\n",
    "with open('test1.txt', 'r') as f:\n",
    "    corpus = f.readlines()\n",
    "#     corpus.append(myNames)\n",
    "len(corpus)    "
   ]
  },
  {
   "cell_type": "code",
   "execution_count": 11,
   "metadata": {
    "collapsed": true
   },
   "outputs": [],
   "source": [
    "from sklearn.feature_extraction.text import CountVectorizer\n",
    "cv = CountVectorizer(max_features = 1500)\n",
    "XTest = cv.fit_transform(corpus).toarray()\n",
    "# Predicting the Test set results\n",
    "#y_pred = classifier.predict(XTest)"
   ]
  },
  {
   "cell_type": "code",
   "execution_count": null,
   "metadata": {
    "collapsed": true
   },
   "outputs": [],
   "source": [
    "len(y_pred)"
   ]
  },
  {
   "cell_type": "code",
   "execution_count": null,
   "metadata": {
    "collapsed": true
   },
   "outputs": [],
   "source": [
    "project_id = test.iloc[ : ,0 ].values\n",
    "len(project_id)"
   ]
  },
  {
   "cell_type": "code",
   "execution_count": null,
   "metadata": {
    "collapsed": true
   },
   "outputs": [],
   "source": [
    "df = pd.DataFrame({'project_id':project_id , 'final_status' : y_pred})"
   ]
  },
  {
   "cell_type": "code",
   "execution_count": null,
   "metadata": {
    "collapsed": true
   },
   "outputs": [],
   "source": [
    "df = df[[ 'project_id','final_status']]"
   ]
  },
  {
   "cell_type": "code",
   "execution_count": null,
   "metadata": {
    "collapsed": true
   },
   "outputs": [],
   "source": [
    "df.head()"
   ]
  },
  {
   "cell_type": "code",
   "execution_count": null,
   "metadata": {
    "collapsed": true
   },
   "outputs": [],
   "source": [
    "df.set_index(\"project_id\").to_csv('Predictions.csv')"
   ]
  },
  {
   "cell_type": "code",
   "execution_count": null,
   "metadata": {
    "collapsed": true
   },
   "outputs": [],
   "source": [
    "XTest"
   ]
  },
  {
   "cell_type": "markdown",
   "metadata": {},
   "source": [
    "## 3rd Approach Combining these two"
   ]
  },
  {
   "cell_type": "code",
   "execution_count": 12,
   "metadata": {},
   "outputs": [
    {
     "ename": "NameError",
     "evalue": "name 'X' is not defined",
     "output_type": "error",
     "traceback": [
      "\u001b[0;31m---------------------------------------------------------------------------\u001b[0m",
      "\u001b[0;31mNameError\u001b[0m                                 Traceback (most recent call last)",
      "\u001b[0;32m<ipython-input-12-253bcac7dd80>\u001b[0m in \u001b[0;36m<module>\u001b[0;34m()\u001b[0m\n\u001b[0;32m----> 1\u001b[0;31m \u001b[0mX\u001b[0m\u001b[0;34m\u001b[0m\u001b[0m\n\u001b[0m",
      "\u001b[0;31mNameError\u001b[0m: name 'X' is not defined"
     ]
    }
   ],
   "source": [
    "X"
   ]
  },
  {
   "cell_type": "code",
   "execution_count": 38,
   "metadata": {
    "collapsed": true
   },
   "outputs": [],
   "source": [
    "from sklearn.feature_extraction.text import CountVectorizer\n",
    "cv = CountVectorizer(max_features = 1500)\n",
    "X1 = cv.fit_transform(corpus).toarray()\n",
    "y = x2.iloc[:, 6].values"
   ]
  },
  {
   "cell_type": "code",
   "execution_count": 39,
   "metadata": {},
   "outputs": [
    {
     "data": {
      "text/plain": [
       "array([[0, 0, 0, ..., 0, 0, 0],\n",
       "       [0, 0, 0, ..., 0, 0, 0],\n",
       "       [0, 0, 0, ..., 0, 0, 0],\n",
       "       ..., \n",
       "       [0, 0, 0, ..., 0, 0, 0],\n",
       "       [0, 0, 0, ..., 0, 0, 0],\n",
       "       [0, 0, 0, ..., 0, 0, 0]], dtype=int64)"
      ]
     },
     "execution_count": 39,
     "metadata": {},
     "output_type": "execute_result"
    }
   ],
   "source": [
    "X1"
   ]
  },
  {
   "cell_type": "code",
   "execution_count": 40,
   "metadata": {
    "collapsed": true
   },
   "outputs": [],
   "source": [
    "finalX = np.append(X,X1,axis=1)"
   ]
  },
  {
   "cell_type": "code",
   "execution_count": 43,
   "metadata": {},
   "outputs": [
    {
     "data": {
      "text/plain": [
       "array([1, 0, 0, ..., 1, 0, 0])"
      ]
     },
     "execution_count": 43,
     "metadata": {},
     "output_type": "execute_result"
    }
   ],
   "source": [
    "y"
   ]
  },
  {
   "cell_type": "code",
   "execution_count": 42,
   "metadata": {},
   "outputs": [
    {
     "data": {
      "text/plain": [
       "array([[20.0, 0, 10, ..., 0, 0, 0],\n",
       "       [300.0, 0, 10, ..., 0, 0, 0],\n",
       "       [30.0, 0, 10, ..., 0, 0, 0],\n",
       "       ..., \n",
       "       [320.0, 0, 10, ..., 0, 0, 0],\n",
       "       [35000.0, 0, 10, ..., 0, 0, 0],\n",
       "       [25000.0, 0, 10, ..., 0, 0, 0]], dtype=object)"
      ]
     },
     "execution_count": 42,
     "metadata": {},
     "output_type": "execute_result"
    }
   ],
   "source": [
    "finalX"
   ]
  },
  {
   "cell_type": "code",
   "execution_count": null,
   "metadata": {},
   "outputs": [
    {
     "name": "stderr",
     "output_type": "stream",
     "text": [
      "/home/anmol/anaconda3/lib/python3.6/site-packages/sklearn/cross_validation.py:41: DeprecationWarning: This module was deprecated in version 0.18 in favor of the model_selection module into which all the refactored classes and functions are moved. Also note that the interface of the new CV iterators are different from that of this module. This module will be removed in 0.20.\n",
      "  \"This module will be removed in 0.20.\", DeprecationWarning)\n"
     ]
    }
   ],
   "source": [
    "# Splitting the dataset into the Training set and Test set\n",
    "from sklearn.cross_validation import train_test_split\n",
    "X_train, X_test, y_train, y_test = train_test_split(finalX, y, test_size = 0.20, random_state = 0)\n",
    "\n",
    "# Fitting XGBoost to the Training set\n",
    "from xgboost import XGBClassifier\n",
    "classifier = XGBClassifier()\n",
    "classifier.fit(X_train, y_train)\n",
    "\n",
    "# Predicting the Test set results\n",
    "y_pred = classifier.predict(X_test)\n",
    "\n",
    "# Making the Confusion Matrix\n",
    "from sklearn.metrics import confusion_matrix\n",
    "cm = confusion_matrix(y_test, y_pred)\n",
    "\n",
    "import pickle\n",
    "pickle.dump(classifier, open(\"pima3rd.pickle.dat\", \"wb\"))"
   ]
  },
  {
   "cell_type": "code",
   "execution_count": null,
   "metadata": {
    "collapsed": true
   },
   "outputs": [],
   "source": []
  },
  {
   "cell_type": "code",
   "execution_count": null,
   "metadata": {
    "collapsed": true
   },
   "outputs": [],
   "source": []
  },
  {
   "cell_type": "code",
   "execution_count": null,
   "metadata": {
    "collapsed": true
   },
   "outputs": [],
   "source": []
  },
  {
   "cell_type": "markdown",
   "metadata": {},
   "source": [
    "# Submission"
   ]
  },
  {
   "cell_type": "code",
   "execution_count": 186,
   "metadata": {},
   "outputs": [
    {
     "data": {
      "text/html": [
       "<div>\n",
       "<style>\n",
       "    .dataframe thead tr:only-child th {\n",
       "        text-align: right;\n",
       "    }\n",
       "\n",
       "    .dataframe thead th {\n",
       "        text-align: left;\n",
       "    }\n",
       "\n",
       "    .dataframe tbody tr th {\n",
       "        vertical-align: top;\n",
       "    }\n",
       "</style>\n",
       "<table border=\"1\" class=\"dataframe\">\n",
       "  <thead>\n",
       "    <tr style=\"text-align: right;\">\n",
       "      <th></th>\n",
       "      <th>project_id</th>\n",
       "      <th>goal</th>\n",
       "      <th>disable_communication</th>\n",
       "      <th>country</th>\n",
       "      <th>currency</th>\n",
       "    </tr>\n",
       "  </thead>\n",
       "  <tbody>\n",
       "    <tr>\n",
       "      <th>0</th>\n",
       "      <td>kkst917493670</td>\n",
       "      <td>7000.0</td>\n",
       "      <td>False</td>\n",
       "      <td>US</td>\n",
       "      <td>USD</td>\n",
       "    </tr>\n",
       "    <tr>\n",
       "      <th>1</th>\n",
       "      <td>kkst1664901914</td>\n",
       "      <td>35000.0</td>\n",
       "      <td>False</td>\n",
       "      <td>US</td>\n",
       "      <td>USD</td>\n",
       "    </tr>\n",
       "    <tr>\n",
       "      <th>2</th>\n",
       "      <td>kkst925125077</td>\n",
       "      <td>49500.0</td>\n",
       "      <td>False</td>\n",
       "      <td>US</td>\n",
       "      <td>USD</td>\n",
       "    </tr>\n",
       "    <tr>\n",
       "      <th>3</th>\n",
       "      <td>kkst1427645275</td>\n",
       "      <td>40000.0</td>\n",
       "      <td>False</td>\n",
       "      <td>US</td>\n",
       "      <td>USD</td>\n",
       "    </tr>\n",
       "    <tr>\n",
       "      <th>4</th>\n",
       "      <td>kkst1714249266</td>\n",
       "      <td>20000.0</td>\n",
       "      <td>False</td>\n",
       "      <td>US</td>\n",
       "      <td>USD</td>\n",
       "    </tr>\n",
       "  </tbody>\n",
       "</table>\n",
       "</div>"
      ],
      "text/plain": [
       "       project_id     goal  disable_communication country currency\n",
       "0   kkst917493670   7000.0                  False      US      USD\n",
       "1  kkst1664901914  35000.0                  False      US      USD\n",
       "2   kkst925125077  49500.0                  False      US      USD\n",
       "3  kkst1427645275  40000.0                  False      US      USD\n",
       "4  kkst1714249266  20000.0                  False      US      USD"
      ]
     },
     "execution_count": 186,
     "metadata": {},
     "output_type": "execute_result"
    }
   ],
   "source": [
    "test = pd.read_csv('test.csv')\n",
    "import datetime\n",
    "# test['created_at_year'] = test['created_at'].apply(lambda x: datetime.datetime.fromtimestamp(int(x)).strftime('%Y'))\n",
    "# test['created_at_month'] = test['created_at'].apply(lambda x: datetime.datetime.fromtimestamp(int(x)).strftime('%m'))\n",
    "# test['state_changed_at_year'] = test['state_changed_at'].apply(lambda x: datetime.datetime.fromtimestamp(int(x)).strftime('%Y'))\n",
    "# test['state_changed_at_month'] = test['state_changed_at'].apply(lambda x: datetime.datetime.fromtimestamp(int(x)).strftime('%m'))\n",
    "# test['deadline_year'] = test['deadline'].apply(lambda x: datetime.datetime.fromtimestamp(int(x)).strftime('%Y'))\n",
    "# test['deadline_month'] = test['deadline'].apply(lambda x: datetime.datetime.fromtimestamp(int(x)).strftime('%m'))\n",
    "\n",
    "list = ['name' ,'desc' , 'keywords' , 'deadline' , 'state_changed_at' , 'created_at' , 'launched_at']\n",
    "test = test.drop(list,axis = 1 )\n",
    "test.head()"
   ]
  },
  {
   "cell_type": "code",
   "execution_count": 188,
   "metadata": {},
   "outputs": [
    {
     "data": {
      "text/plain": [
       "array([[7000.0, 0, 20, 12],\n",
       "       [35000.0, 0, 20, 12],\n",
       "       [49500.0, 0, 20, 12],\n",
       "       ..., \n",
       "       [4000.0, 0, 3, 1],\n",
       "       [42800.0, 0, 20, 12],\n",
       "       [850.0, 0, 20, 12]], dtype=object)"
      ]
     },
     "execution_count": 188,
     "metadata": {},
     "output_type": "execute_result"
    }
   ],
   "source": [
    "X = test.iloc[:,[1,2,3,4]].values\n",
    "labelencoder_X_1 = LabelEncoder()\n",
    "X[:, 1] = labelencoder_X_1.fit_transform(X[:, 1])\n",
    "labelencoder_X_2 = LabelEncoder()\n",
    "X[:, 2] = labelencoder_X_2.fit_transform(X[:, 2])\n",
    "labelencoder_X_3 = LabelEncoder()\n",
    "X[:, 3] = labelencoder_X_3.fit_transform(X[:, 3])\n",
    "X"
   ]
  },
  {
   "cell_type": "code",
   "execution_count": 189,
   "metadata": {},
   "outputs": [
    {
     "name": "stderr",
     "output_type": "stream",
     "text": [
      "/home/anmol/anaconda3/lib/python3.6/site-packages/sklearn/utils/validation.py:475: DataConversionWarning: Data with input dtype object was converted to float64 by StandardScaler.\n",
      "  warnings.warn(msg, DataConversionWarning)\n"
     ]
    }
   ],
   "source": [
    "from sklearn.preprocessing import StandardScaler\n",
    "sc = StandardScaler()\n",
    "X = sc.fit_transform(X)"
   ]
  },
  {
   "cell_type": "code",
   "execution_count": 190,
   "metadata": {},
   "outputs": [],
   "source": [
    "# Predicting the Test set results\n",
    "y_pred = classifier.predict(X)"
   ]
  },
  {
   "cell_type": "code",
   "execution_count": 191,
   "metadata": {},
   "outputs": [
    {
     "data": {
      "text/plain": [
       "array([0, 0, 0, ..., 0, 0, 0])"
      ]
     },
     "execution_count": 191,
     "metadata": {},
     "output_type": "execute_result"
    }
   ],
   "source": [
    "y_pred"
   ]
  },
  {
   "cell_type": "code",
   "execution_count": 192,
   "metadata": {},
   "outputs": [
    {
     "data": {
      "text/plain": [
       "array(['kkst917493670', 'kkst1664901914', 'kkst925125077', ...,\n",
       "       'kkst68821321', 'kkst665771257', 'kkst1164902454'], dtype=object)"
      ]
     },
     "execution_count": 192,
     "metadata": {},
     "output_type": "execute_result"
    }
   ],
   "source": [
    "project_id = test.iloc[ : ,0 ].values\n",
    "project_id"
   ]
  },
  {
   "cell_type": "code",
   "execution_count": 193,
   "metadata": {
    "collapsed": true
   },
   "outputs": [],
   "source": [
    "df = pd.DataFrame({'project_id':project_id , 'final_status' : y_pred})"
   ]
  },
  {
   "cell_type": "code",
   "execution_count": 194,
   "metadata": {},
   "outputs": [
    {
     "data": {
      "text/html": [
       "<div>\n",
       "<style>\n",
       "    .dataframe thead tr:only-child th {\n",
       "        text-align: right;\n",
       "    }\n",
       "\n",
       "    .dataframe thead th {\n",
       "        text-align: left;\n",
       "    }\n",
       "\n",
       "    .dataframe tbody tr th {\n",
       "        vertical-align: top;\n",
       "    }\n",
       "</style>\n",
       "<table border=\"1\" class=\"dataframe\">\n",
       "  <thead>\n",
       "    <tr style=\"text-align: right;\">\n",
       "      <th></th>\n",
       "      <th>final_status</th>\n",
       "      <th>project_id</th>\n",
       "    </tr>\n",
       "  </thead>\n",
       "  <tbody>\n",
       "    <tr>\n",
       "      <th>0</th>\n",
       "      <td>0</td>\n",
       "      <td>kkst917493670</td>\n",
       "    </tr>\n",
       "    <tr>\n",
       "      <th>1</th>\n",
       "      <td>0</td>\n",
       "      <td>kkst1664901914</td>\n",
       "    </tr>\n",
       "    <tr>\n",
       "      <th>2</th>\n",
       "      <td>0</td>\n",
       "      <td>kkst925125077</td>\n",
       "    </tr>\n",
       "    <tr>\n",
       "      <th>3</th>\n",
       "      <td>0</td>\n",
       "      <td>kkst1427645275</td>\n",
       "    </tr>\n",
       "    <tr>\n",
       "      <th>4</th>\n",
       "      <td>0</td>\n",
       "      <td>kkst1714249266</td>\n",
       "    </tr>\n",
       "  </tbody>\n",
       "</table>\n",
       "</div>"
      ],
      "text/plain": [
       "   final_status      project_id\n",
       "0             0   kkst917493670\n",
       "1             0  kkst1664901914\n",
       "2             0   kkst925125077\n",
       "3             0  kkst1427645275\n",
       "4             0  kkst1714249266"
      ]
     },
     "execution_count": 194,
     "metadata": {},
     "output_type": "execute_result"
    }
   ],
   "source": [
    "df.head()"
   ]
  },
  {
   "cell_type": "code",
   "execution_count": 195,
   "metadata": {},
   "outputs": [
    {
     "data": {
      "text/plain": [
       "Index(['final_status', 'project_id'], dtype='object')"
      ]
     },
     "execution_count": 195,
     "metadata": {},
     "output_type": "execute_result"
    }
   ],
   "source": [
    "df.columns"
   ]
  },
  {
   "cell_type": "code",
   "execution_count": 196,
   "metadata": {
    "collapsed": true
   },
   "outputs": [],
   "source": [
    "df = df[[ 'project_id','final_status']]"
   ]
  },
  {
   "cell_type": "code",
   "execution_count": 197,
   "metadata": {},
   "outputs": [
    {
     "data": {
      "text/html": [
       "<div>\n",
       "<style>\n",
       "    .dataframe thead tr:only-child th {\n",
       "        text-align: right;\n",
       "    }\n",
       "\n",
       "    .dataframe thead th {\n",
       "        text-align: left;\n",
       "    }\n",
       "\n",
       "    .dataframe tbody tr th {\n",
       "        vertical-align: top;\n",
       "    }\n",
       "</style>\n",
       "<table border=\"1\" class=\"dataframe\">\n",
       "  <thead>\n",
       "    <tr style=\"text-align: right;\">\n",
       "      <th></th>\n",
       "      <th>project_id</th>\n",
       "      <th>final_status</th>\n",
       "    </tr>\n",
       "  </thead>\n",
       "  <tbody>\n",
       "    <tr>\n",
       "      <th>0</th>\n",
       "      <td>kkst917493670</td>\n",
       "      <td>0</td>\n",
       "    </tr>\n",
       "    <tr>\n",
       "      <th>1</th>\n",
       "      <td>kkst1664901914</td>\n",
       "      <td>0</td>\n",
       "    </tr>\n",
       "    <tr>\n",
       "      <th>2</th>\n",
       "      <td>kkst925125077</td>\n",
       "      <td>0</td>\n",
       "    </tr>\n",
       "    <tr>\n",
       "      <th>3</th>\n",
       "      <td>kkst1427645275</td>\n",
       "      <td>0</td>\n",
       "    </tr>\n",
       "    <tr>\n",
       "      <th>4</th>\n",
       "      <td>kkst1714249266</td>\n",
       "      <td>0</td>\n",
       "    </tr>\n",
       "  </tbody>\n",
       "</table>\n",
       "</div>"
      ],
      "text/plain": [
       "       project_id  final_status\n",
       "0   kkst917493670             0\n",
       "1  kkst1664901914             0\n",
       "2   kkst925125077             0\n",
       "3  kkst1427645275             0\n",
       "4  kkst1714249266             0"
      ]
     },
     "execution_count": 197,
     "metadata": {},
     "output_type": "execute_result"
    }
   ],
   "source": [
    "df.head()"
   ]
  },
  {
   "cell_type": "code",
   "execution_count": 198,
   "metadata": {
    "collapsed": true
   },
   "outputs": [],
   "source": [
    "df.set_index(\"project_id\").to_csv('Predictions.csv')"
   ]
  },
  {
   "cell_type": "code",
   "execution_count": 199,
   "metadata": {
    "collapsed": true
   },
   "outputs": [],
   "source": [
    "a = np.array([[1,2,3],[4,5,6]])\n",
    "b = np.array([[2,1,3] , [4,3,2]])\n",
    "c = np.append(a,b,axis=1)"
   ]
  },
  {
   "cell_type": "code",
   "execution_count": 200,
   "metadata": {},
   "outputs": [
    {
     "data": {
      "text/plain": [
       "array([[1, 2, 3, 2, 1, 3],\n",
       "       [4, 5, 6, 4, 3, 2]])"
      ]
     },
     "execution_count": 200,
     "metadata": {},
     "output_type": "execute_result"
    }
   ],
   "source": [
    "c"
   ]
  },
  {
   "cell_type": "markdown",
   "metadata": {
    "collapsed": true
   },
   "source": [
    "## 3rd Approach Submission"
   ]
  },
  {
   "cell_type": "code",
   "execution_count": 18,
   "metadata": {},
   "outputs": [
    {
     "data": {
      "text/plain": [
       "array([[7000.0, 0, 20, 12],\n",
       "       [35000.0, 0, 20, 12],\n",
       "       [49500.0, 0, 20, 12],\n",
       "       ..., \n",
       "       [4000.0, 0, 3, 1],\n",
       "       [42800.0, 0, 20, 12],\n",
       "       [850.0, 0, 20, 12]], dtype=object)"
      ]
     },
     "execution_count": 18,
     "metadata": {},
     "output_type": "execute_result"
    }
   ],
   "source": [
    "X"
   ]
  },
  {
   "cell_type": "code",
   "execution_count": 19,
   "metadata": {},
   "outputs": [
    {
     "data": {
      "text/plain": [
       "array([[0, 0, 0, ..., 0, 0, 0],\n",
       "       [0, 0, 0, ..., 0, 0, 0],\n",
       "       [0, 0, 0, ..., 0, 0, 0],\n",
       "       ..., \n",
       "       [0, 0, 0, ..., 0, 0, 0],\n",
       "       [0, 0, 0, ..., 0, 0, 0],\n",
       "       [0, 0, 0, ..., 0, 0, 0]], dtype=int64)"
      ]
     },
     "execution_count": 19,
     "metadata": {},
     "output_type": "execute_result"
    }
   ],
   "source": [
    "XTest"
   ]
  },
  {
   "cell_type": "code",
   "execution_count": 20,
   "metadata": {
    "collapsed": true
   },
   "outputs": [],
   "source": [
    "xf = np.append(X , XTest , axis =1)"
   ]
  },
  {
   "cell_type": "code",
   "execution_count": 21,
   "metadata": {},
   "outputs": [
    {
     "data": {
      "text/plain": [
       "array([[7000.0, 0, 20, ..., 0, 0, 0],\n",
       "       [35000.0, 0, 20, ..., 0, 0, 0],\n",
       "       [49500.0, 0, 20, ..., 0, 0, 0],\n",
       "       ..., \n",
       "       [4000.0, 0, 3, ..., 0, 0, 0],\n",
       "       [42800.0, 0, 20, ..., 0, 0, 0],\n",
       "       [850.0, 0, 20, ..., 0, 0, 0]], dtype=object)"
      ]
     },
     "execution_count": 21,
     "metadata": {},
     "output_type": "execute_result"
    }
   ],
   "source": [
    "xf"
   ]
  },
  {
   "cell_type": "code",
   "execution_count": 25,
   "metadata": {
    "collapsed": true
   },
   "outputs": [],
   "source": [
    "# Backup\n",
    "import pickle\n",
    "classifier = pickle.load(open(\"pima3rd.pickle.dat\", \"rb\"))"
   ]
  },
  {
   "cell_type": "code",
   "execution_count": 26,
   "metadata": {
    "collapsed": true
   },
   "outputs": [],
   "source": [
    "# Predicting the Test set results\n",
    "y_pred = classifier.predict(xf)"
   ]
  },
  {
   "cell_type": "code",
   "execution_count": 27,
   "metadata": {},
   "outputs": [
    {
     "data": {
      "text/plain": [
       "array(['kkst917493670', 'kkst1664901914', 'kkst925125077', ...,\n",
       "       'kkst68821321', 'kkst665771257', 'kkst1164902454'], dtype=object)"
      ]
     },
     "execution_count": 27,
     "metadata": {},
     "output_type": "execute_result"
    }
   ],
   "source": [
    "project_id = test.iloc[ : ,0 ].values\n",
    "project_id"
   ]
  },
  {
   "cell_type": "code",
   "execution_count": 28,
   "metadata": {
    "collapsed": true
   },
   "outputs": [],
   "source": [
    "df = pd.DataFrame({'project_id':project_id , 'final_status' : y_pred})"
   ]
  },
  {
   "cell_type": "code",
   "execution_count": 29,
   "metadata": {
    "collapsed": true
   },
   "outputs": [],
   "source": [
    "df = df[[ 'project_id','final_status']]"
   ]
  },
  {
   "cell_type": "code",
   "execution_count": 30,
   "metadata": {
    "collapsed": true
   },
   "outputs": [],
   "source": [
    "df.set_index(\"project_id\").to_csv('Predictions.csv')"
   ]
  },
  {
   "cell_type": "code",
   "execution_count": null,
   "metadata": {
    "collapsed": true
   },
   "outputs": [],
   "source": []
  }
 ],
 "metadata": {
  "kernelspec": {
   "display_name": "Python 3",
   "language": "python",
   "name": "python3"
  },
  "language_info": {
   "codemirror_mode": {
    "name": "ipython",
    "version": 3
   },
   "file_extension": ".py",
   "mimetype": "text/x-python",
   "name": "python",
   "nbconvert_exporter": "python",
   "pygments_lexer": "ipython3",
   "version": "3.6.3"
  }
 },
 "nbformat": 4,
 "nbformat_minor": 2
}
